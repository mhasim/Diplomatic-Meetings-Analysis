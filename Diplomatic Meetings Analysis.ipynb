{
 "cells": [
  {
   "cell_type": "markdown",
   "id": "e71c2fef",
   "metadata": {},
   "source": [
    "# HIGH-LEVEL TURKISH DIPLOMATIC MEETINGS BETWEEN 2009-2020"
   ]
  },
  {
   "cell_type": "markdown",
   "id": "cd9541bf",
   "metadata": {},
   "source": [
    "## Importing Python Libraries"
   ]
  },
  {
   "cell_type": "code",
   "execution_count": 3,
   "id": "264f0ffd",
   "metadata": {},
   "outputs": [],
   "source": [
    "import pandas as pd\n",
    "import numpy as np\n",
    "import matplotlib.pyplot as plt\n",
    "%matplotlib inline\n",
    "import scipy\n",
    "import seaborn as sns"
   ]
  },
  {
   "cell_type": "markdown",
   "id": "c2bbfcc0",
   "metadata": {},
   "source": [
    "## Importing the dataset"
   ]
  },
  {
   "cell_type": "code",
   "execution_count": 4,
   "id": "57dddcc5",
   "metadata": {},
   "outputs": [],
   "source": [
    "df = pd.read_excel('analiz - Copy.xlsx')"
   ]
  },
  {
   "cell_type": "code",
   "execution_count": 94,
   "id": "277bf951",
   "metadata": {},
   "outputs": [
    {
     "data": {
      "text/html": [
       "<div>\n",
       "<style scoped>\n",
       "    .dataframe tbody tr th:only-of-type {\n",
       "        vertical-align: middle;\n",
       "    }\n",
       "\n",
       "    .dataframe tbody tr th {\n",
       "        vertical-align: top;\n",
       "    }\n",
       "\n",
       "    .dataframe thead th {\n",
       "        text-align: right;\n",
       "    }\n",
       "</style>\n",
       "<table border=\"1\" class=\"dataframe\">\n",
       "  <thead>\n",
       "    <tr style=\"text-align: right;\">\n",
       "      <th></th>\n",
       "      <th>STARTS</th>\n",
       "      <th>ENDS</th>\n",
       "      <th>DURATION</th>\n",
       "      <th>YEAR</th>\n",
       "      <th>CATEGORY</th>\n",
       "      <th>COUNTRY</th>\n",
       "      <th>NON_STATE_ACTOR</th>\n",
       "      <th>INTERNATIONAL_ORGANIZATION</th>\n",
       "      <th>MULTILATERAL</th>\n",
       "      <th>1_HEAD_OF_STATE</th>\n",
       "      <th>...</th>\n",
       "      <th>LOCATION</th>\n",
       "      <th>DOCUMENTS</th>\n",
       "      <th>EXTRA</th>\n",
       "      <th>REGION</th>\n",
       "      <th>NATO</th>\n",
       "      <th>EU</th>\n",
       "      <th>NEIGHBORS</th>\n",
       "      <th>SCO</th>\n",
       "      <th>AXIS_RF_CH_IR</th>\n",
       "      <th>OIC</th>\n",
       "    </tr>\n",
       "  </thead>\n",
       "  <tbody>\n",
       "    <tr>\n",
       "      <th>0</th>\n",
       "      <td>2020-12-29</td>\n",
       "      <td>2020-12-29</td>\n",
       "      <td>1</td>\n",
       "      <td>2020</td>\n",
       "      <td>BILATERAL</td>\n",
       "      <td>RUSSIA</td>\n",
       "      <td>NaN</td>\n",
       "      <td>NaN</td>\n",
       "      <td>NaN</td>\n",
       "      <td>0</td>\n",
       "      <td>...</td>\n",
       "      <td>RUSSIA</td>\n",
       "      <td>1</td>\n",
       "      <td>NaN</td>\n",
       "      <td>0</td>\n",
       "      <td>0</td>\n",
       "      <td>0</td>\n",
       "      <td>0</td>\n",
       "      <td>1</td>\n",
       "      <td>1</td>\n",
       "      <td>0</td>\n",
       "    </tr>\n",
       "    <tr>\n",
       "      <th>1</th>\n",
       "      <td>2020-12-28</td>\n",
       "      <td>2020-12-28</td>\n",
       "      <td>1</td>\n",
       "      <td>2020</td>\n",
       "      <td>BILATERAL</td>\n",
       "      <td>KOSOVO</td>\n",
       "      <td>NaN</td>\n",
       "      <td>NaN</td>\n",
       "      <td>NaN</td>\n",
       "      <td>0</td>\n",
       "      <td>...</td>\n",
       "      <td>TURKEY</td>\n",
       "      <td>0</td>\n",
       "      <td>NaN</td>\n",
       "      <td>BALKANS</td>\n",
       "      <td>0</td>\n",
       "      <td>0</td>\n",
       "      <td>0</td>\n",
       "      <td>0</td>\n",
       "      <td>0</td>\n",
       "      <td>0</td>\n",
       "    </tr>\n",
       "    <tr>\n",
       "      <th>2</th>\n",
       "      <td>2020-12-26</td>\n",
       "      <td>2020-12-26</td>\n",
       "      <td>1</td>\n",
       "      <td>2020</td>\n",
       "      <td>BILATERAL</td>\n",
       "      <td>NaN</td>\n",
       "      <td>LIBYA TRIPOLI GOVERNMENT</td>\n",
       "      <td>NaN</td>\n",
       "      <td>NaN</td>\n",
       "      <td>0</td>\n",
       "      <td>...</td>\n",
       "      <td>LIBYA</td>\n",
       "      <td>0</td>\n",
       "      <td>NaN</td>\n",
       "      <td>0</td>\n",
       "      <td>0</td>\n",
       "      <td>0</td>\n",
       "      <td>0</td>\n",
       "      <td>0</td>\n",
       "      <td>0</td>\n",
       "      <td>0</td>\n",
       "    </tr>\n",
       "    <tr>\n",
       "      <th>3</th>\n",
       "      <td>2020-12-23</td>\n",
       "      <td>2020-12-24</td>\n",
       "      <td>2</td>\n",
       "      <td>2020</td>\n",
       "      <td>BILATERAL</td>\n",
       "      <td>SOMALIA</td>\n",
       "      <td>NaN</td>\n",
       "      <td>NaN</td>\n",
       "      <td>NaN</td>\n",
       "      <td>0</td>\n",
       "      <td>...</td>\n",
       "      <td>TURKEY</td>\n",
       "      <td>0</td>\n",
       "      <td>NaN</td>\n",
       "      <td>AFRICA</td>\n",
       "      <td>0</td>\n",
       "      <td>0</td>\n",
       "      <td>0</td>\n",
       "      <td>0</td>\n",
       "      <td>0</td>\n",
       "      <td>1</td>\n",
       "    </tr>\n",
       "    <tr>\n",
       "      <th>4</th>\n",
       "      <td>2020-12-23</td>\n",
       "      <td>2020-12-23</td>\n",
       "      <td>1</td>\n",
       "      <td>2020</td>\n",
       "      <td>BILATERAL</td>\n",
       "      <td>KKTC</td>\n",
       "      <td>NaN</td>\n",
       "      <td>NaN</td>\n",
       "      <td>NaN</td>\n",
       "      <td>0</td>\n",
       "      <td>...</td>\n",
       "      <td>TURKEY</td>\n",
       "      <td>0</td>\n",
       "      <td>NaN</td>\n",
       "      <td>0</td>\n",
       "      <td>0</td>\n",
       "      <td>0</td>\n",
       "      <td>1</td>\n",
       "      <td>0</td>\n",
       "      <td>0</td>\n",
       "      <td>0</td>\n",
       "    </tr>\n",
       "  </tbody>\n",
       "</table>\n",
       "<p>5 rows × 36 columns</p>\n",
       "</div>"
      ],
      "text/plain": [
       "      STARTS       ENDS  DURATION  YEAR   CATEGORY  COUNTRY  \\\n",
       "0 2020-12-29 2020-12-29         1  2020  BILATERAL   RUSSIA   \n",
       "1 2020-12-28 2020-12-28         1  2020  BILATERAL   KOSOVO   \n",
       "2 2020-12-26 2020-12-26         1  2020  BILATERAL      NaN   \n",
       "3 2020-12-23 2020-12-24         2  2020  BILATERAL  SOMALIA   \n",
       "4 2020-12-23 2020-12-23         1  2020  BILATERAL     KKTC   \n",
       "\n",
       "            NON_STATE_ACTOR INTERNATIONAL_ORGANIZATION MULTILATERAL  \\\n",
       "0                       NaN                        NaN          NaN   \n",
       "1                       NaN                        NaN          NaN   \n",
       "2  LIBYA TRIPOLI GOVERNMENT                        NaN          NaN   \n",
       "3                       NaN                        NaN          NaN   \n",
       "4                       NaN                        NaN          NaN   \n",
       "\n",
       "   1_HEAD_OF_STATE  ...  LOCATION  DOCUMENTS  EXTRA   REGION  NATO  EU  \\\n",
       "0                0  ...    RUSSIA          1    NaN        0     0   0   \n",
       "1                0  ...    TURKEY          0    NaN  BALKANS     0   0   \n",
       "2                0  ...     LIBYA          0    NaN        0     0   0   \n",
       "3                0  ...    TURKEY          0    NaN   AFRICA     0   0   \n",
       "4                0  ...    TURKEY          0    NaN        0     0   0   \n",
       "\n",
       "   NEIGHBORS  SCO  AXIS_RF_CH_IR  OIC  \n",
       "0          0    1              1    0  \n",
       "1          0    0              0    0  \n",
       "2          0    0              0    0  \n",
       "3          0    0              0    1  \n",
       "4          1    0              0    0  \n",
       "\n",
       "[5 rows x 36 columns]"
      ]
     },
     "execution_count": 94,
     "metadata": {},
     "output_type": "execute_result"
    }
   ],
   "source": [
    "df.head()"
   ]
  },
  {
   "cell_type": "code",
   "execution_count": 5,
   "id": "cee97024",
   "metadata": {},
   "outputs": [
    {
     "name": "stdout",
     "output_type": "stream",
     "text": [
      "<class 'pandas.core.frame.DataFrame'>\n",
      "RangeIndex: 6565 entries, 0 to 6564\n",
      "Data columns (total 36 columns):\n",
      " #   Column                      Non-Null Count  Dtype         \n",
      "---  ------                      --------------  -----         \n",
      " 0   STARTS                      6565 non-null   datetime64[ns]\n",
      " 1   ENDS                        6565 non-null   datetime64[ns]\n",
      " 2   DURATION                    6565 non-null   int64         \n",
      " 3   YEAR                        6565 non-null   int64         \n",
      " 4   CATEGORY                    6565 non-null   object        \n",
      " 5   COUNTRY                     4695 non-null   object        \n",
      " 6   NON_STATE_ACTOR             301 non-null    object        \n",
      " 7   INTERNATIONAL_ORGANIZATION  934 non-null    object        \n",
      " 8   MULTILATERAL                688 non-null    object        \n",
      " 9   1_HEAD_OF_STATE             6565 non-null   int64         \n",
      " 10  1_PM                        6565 non-null   int64         \n",
      " 11  1_MFA                       6565 non-null   int64         \n",
      " 12  1_ECON                      6565 non-null   int64         \n",
      " 13  1_DEFENSE                   6565 non-null   int64         \n",
      " 14  1_ENERGY                    6565 non-null   int64         \n",
      " 15  1_OTHERS                    6565 non-null   int64         \n",
      " 16  1_LEGISLATION               6565 non-null   int64         \n",
      " 17  2_HEAD_OF_STATES            6565 non-null   int64         \n",
      " 18  2_PM                        6565 non-null   int64         \n",
      " 19  2_MFA                       6565 non-null   int64         \n",
      " 20  2_ECON                      6565 non-null   int64         \n",
      " 21  2_DEFENSE                   6565 non-null   int64         \n",
      " 22  2_ENERGY                    6565 non-null   int64         \n",
      " 23  2_OTHERS                    6565 non-null   int64         \n",
      " 24  2_LEGISLATION               6565 non-null   int64         \n",
      " 25  EXPLANATION                 6565 non-null   object        \n",
      " 26  LOCATION                    6564 non-null   object        \n",
      " 27  DOCUMENTS                   6565 non-null   int64         \n",
      " 28  EXTRA                       147 non-null    object        \n",
      " 29  REGION                      6565 non-null   object        \n",
      " 30  NATO                        6565 non-null   int64         \n",
      " 31  EU                          6565 non-null   int64         \n",
      " 32  NEIGHBORS                   6565 non-null   int64         \n",
      " 33  SCO                         6565 non-null   int64         \n",
      " 34  AXIS_RF_CH_IR               6565 non-null   int64         \n",
      " 35  OIC                         6565 non-null   int64         \n",
      "dtypes: datetime64[ns](2), int64(25), object(9)\n",
      "memory usage: 1.8+ MB\n"
     ]
    }
   ],
   "source": [
    "df.info()"
   ]
  },
  {
   "cell_type": "markdown",
   "id": "5c0c250f",
   "metadata": {},
   "source": [
    "At first, I will only analyze Turkey's bilateral meetings with states based on years. \n",
    "So, I will remove irrelevant columns and null rows."
   ]
  },
  {
   "cell_type": "code",
   "execution_count": 308,
   "id": "b764a230",
   "metadata": {},
   "outputs": [],
   "source": [
    "df1 = df.iloc[:, 3:28]"
   ]
  },
  {
   "cell_type": "code",
   "execution_count": 309,
   "id": "74c25943",
   "metadata": {},
   "outputs": [],
   "source": [
    "df1 = df1[df1.CATEGORY == 'BILATERAL']"
   ]
  },
  {
   "cell_type": "code",
   "execution_count": 310,
   "id": "0521afc0",
   "metadata": {},
   "outputs": [
    {
     "data": {
      "text/html": [
       "<div>\n",
       "<style scoped>\n",
       "    .dataframe tbody tr th:only-of-type {\n",
       "        vertical-align: middle;\n",
       "    }\n",
       "\n",
       "    .dataframe tbody tr th {\n",
       "        vertical-align: top;\n",
       "    }\n",
       "\n",
       "    .dataframe thead th {\n",
       "        text-align: right;\n",
       "    }\n",
       "</style>\n",
       "<table border=\"1\" class=\"dataframe\">\n",
       "  <thead>\n",
       "    <tr style=\"text-align: right;\">\n",
       "      <th></th>\n",
       "      <th>YEAR</th>\n",
       "      <th>CATEGORY</th>\n",
       "      <th>COUNTRY</th>\n",
       "      <th>NON_STATE_ACTOR</th>\n",
       "      <th>INTERNATIONAL_ORGANIZATION</th>\n",
       "      <th>MULTILATERAL</th>\n",
       "      <th>1_HEAD_OF_STATE</th>\n",
       "      <th>1_PM</th>\n",
       "      <th>1_MFA</th>\n",
       "      <th>1_ECON</th>\n",
       "      <th>...</th>\n",
       "      <th>2_PM</th>\n",
       "      <th>2_MFA</th>\n",
       "      <th>2_ECON</th>\n",
       "      <th>2_DEFENSE</th>\n",
       "      <th>2_ENERGY</th>\n",
       "      <th>2_OTHERS</th>\n",
       "      <th>2_LEGISLATION</th>\n",
       "      <th>EXPLANATION</th>\n",
       "      <th>LOCATION</th>\n",
       "      <th>DOCUMENTS</th>\n",
       "    </tr>\n",
       "  </thead>\n",
       "  <tbody>\n",
       "    <tr>\n",
       "      <th>0</th>\n",
       "      <td>2020</td>\n",
       "      <td>BILATERAL</td>\n",
       "      <td>RUSSIA</td>\n",
       "      <td>NaN</td>\n",
       "      <td>NaN</td>\n",
       "      <td>NaN</td>\n",
       "      <td>0</td>\n",
       "      <td>0</td>\n",
       "      <td>1</td>\n",
       "      <td>0</td>\n",
       "      <td>...</td>\n",
       "      <td>0</td>\n",
       "      <td>1</td>\n",
       "      <td>0</td>\n",
       "      <td>0</td>\n",
       "      <td>0</td>\n",
       "      <td>0</td>\n",
       "      <td>0</td>\n",
       "      <td>Sayın Bakanımız, Türkiye-Rusya Ortak Stratejik...</td>\n",
       "      <td>RUSSIA</td>\n",
       "      <td>1</td>\n",
       "    </tr>\n",
       "  </tbody>\n",
       "</table>\n",
       "<p>1 rows × 25 columns</p>\n",
       "</div>"
      ],
      "text/plain": [
       "   YEAR   CATEGORY COUNTRY NON_STATE_ACTOR INTERNATIONAL_ORGANIZATION  \\\n",
       "0  2020  BILATERAL  RUSSIA             NaN                        NaN   \n",
       "\n",
       "  MULTILATERAL  1_HEAD_OF_STATE  1_PM  1_MFA  1_ECON  ...  2_PM  2_MFA  \\\n",
       "0          NaN                0     0      1       0  ...     0      1   \n",
       "\n",
       "   2_ECON  2_DEFENSE  2_ENERGY  2_OTHERS  2_LEGISLATION  \\\n",
       "0       0          0         0         0              0   \n",
       "\n",
       "                                         EXPLANATION  LOCATION  DOCUMENTS  \n",
       "0  Sayın Bakanımız, Türkiye-Rusya Ortak Stratejik...    RUSSIA          1  \n",
       "\n",
       "[1 rows x 25 columns]"
      ]
     },
     "execution_count": 310,
     "metadata": {},
     "output_type": "execute_result"
    }
   ],
   "source": [
    "df1.head(1)"
   ]
  },
  {
   "cell_type": "markdown",
   "id": "7b54207a",
   "metadata": {},
   "source": [
    "Drop irrelevant columns"
   ]
  },
  {
   "cell_type": "code",
   "execution_count": 311,
   "id": "e533b47b",
   "metadata": {},
   "outputs": [],
   "source": [
    "df1.drop(['CATEGORY', 'NON_STATE_ACTOR', 'INTERNATIONAL_ORGANIZATION', 'MULTILATERAL', 'EXPLANATION'], axis = 1, inplace = True)"
   ]
  },
  {
   "cell_type": "code",
   "execution_count": 312,
   "id": "2c6c2603",
   "metadata": {},
   "outputs": [
    {
     "data": {
      "text/html": [
       "<div>\n",
       "<style scoped>\n",
       "    .dataframe tbody tr th:only-of-type {\n",
       "        vertical-align: middle;\n",
       "    }\n",
       "\n",
       "    .dataframe tbody tr th {\n",
       "        vertical-align: top;\n",
       "    }\n",
       "\n",
       "    .dataframe thead th {\n",
       "        text-align: right;\n",
       "    }\n",
       "</style>\n",
       "<table border=\"1\" class=\"dataframe\">\n",
       "  <thead>\n",
       "    <tr style=\"text-align: right;\">\n",
       "      <th></th>\n",
       "      <th>YEAR</th>\n",
       "      <th>COUNTRY</th>\n",
       "      <th>1_HEAD_OF_STATE</th>\n",
       "      <th>1_PM</th>\n",
       "      <th>1_MFA</th>\n",
       "      <th>1_ECON</th>\n",
       "      <th>1_DEFENSE</th>\n",
       "      <th>1_ENERGY</th>\n",
       "      <th>1_OTHERS</th>\n",
       "      <th>1_LEGISLATION</th>\n",
       "      <th>2_HEAD_OF_STATES</th>\n",
       "      <th>2_PM</th>\n",
       "      <th>2_MFA</th>\n",
       "      <th>2_ECON</th>\n",
       "      <th>2_DEFENSE</th>\n",
       "      <th>2_ENERGY</th>\n",
       "      <th>2_OTHERS</th>\n",
       "      <th>2_LEGISLATION</th>\n",
       "      <th>LOCATION</th>\n",
       "      <th>DOCUMENTS</th>\n",
       "    </tr>\n",
       "  </thead>\n",
       "  <tbody>\n",
       "    <tr>\n",
       "      <th>0</th>\n",
       "      <td>2020</td>\n",
       "      <td>RUSSIA</td>\n",
       "      <td>0</td>\n",
       "      <td>0</td>\n",
       "      <td>1</td>\n",
       "      <td>0</td>\n",
       "      <td>0</td>\n",
       "      <td>0</td>\n",
       "      <td>0</td>\n",
       "      <td>0</td>\n",
       "      <td>0</td>\n",
       "      <td>0</td>\n",
       "      <td>1</td>\n",
       "      <td>0</td>\n",
       "      <td>0</td>\n",
       "      <td>0</td>\n",
       "      <td>0</td>\n",
       "      <td>0</td>\n",
       "      <td>RUSSIA</td>\n",
       "      <td>1</td>\n",
       "    </tr>\n",
       "    <tr>\n",
       "      <th>1</th>\n",
       "      <td>2020</td>\n",
       "      <td>KOSOVO</td>\n",
       "      <td>0</td>\n",
       "      <td>0</td>\n",
       "      <td>1</td>\n",
       "      <td>0</td>\n",
       "      <td>0</td>\n",
       "      <td>0</td>\n",
       "      <td>0</td>\n",
       "      <td>0</td>\n",
       "      <td>0</td>\n",
       "      <td>0</td>\n",
       "      <td>1</td>\n",
       "      <td>0</td>\n",
       "      <td>0</td>\n",
       "      <td>0</td>\n",
       "      <td>0</td>\n",
       "      <td>0</td>\n",
       "      <td>TURKEY</td>\n",
       "      <td>0</td>\n",
       "    </tr>\n",
       "    <tr>\n",
       "      <th>2</th>\n",
       "      <td>2020</td>\n",
       "      <td>NaN</td>\n",
       "      <td>0</td>\n",
       "      <td>1</td>\n",
       "      <td>0</td>\n",
       "      <td>0</td>\n",
       "      <td>1</td>\n",
       "      <td>0</td>\n",
       "      <td>1</td>\n",
       "      <td>0</td>\n",
       "      <td>0</td>\n",
       "      <td>0</td>\n",
       "      <td>0</td>\n",
       "      <td>0</td>\n",
       "      <td>1</td>\n",
       "      <td>0</td>\n",
       "      <td>0</td>\n",
       "      <td>0</td>\n",
       "      <td>LIBYA</td>\n",
       "      <td>0</td>\n",
       "    </tr>\n",
       "    <tr>\n",
       "      <th>3</th>\n",
       "      <td>2020</td>\n",
       "      <td>SOMALIA</td>\n",
       "      <td>0</td>\n",
       "      <td>0</td>\n",
       "      <td>0</td>\n",
       "      <td>0</td>\n",
       "      <td>0</td>\n",
       "      <td>0</td>\n",
       "      <td>1</td>\n",
       "      <td>0</td>\n",
       "      <td>1</td>\n",
       "      <td>0</td>\n",
       "      <td>0</td>\n",
       "      <td>0</td>\n",
       "      <td>0</td>\n",
       "      <td>0</td>\n",
       "      <td>1</td>\n",
       "      <td>0</td>\n",
       "      <td>TURKEY</td>\n",
       "      <td>0</td>\n",
       "    </tr>\n",
       "    <tr>\n",
       "      <th>4</th>\n",
       "      <td>2020</td>\n",
       "      <td>KKTC</td>\n",
       "      <td>0</td>\n",
       "      <td>1</td>\n",
       "      <td>0</td>\n",
       "      <td>0</td>\n",
       "      <td>0</td>\n",
       "      <td>1</td>\n",
       "      <td>1</td>\n",
       "      <td>0</td>\n",
       "      <td>2</td>\n",
       "      <td>0</td>\n",
       "      <td>0</td>\n",
       "      <td>0</td>\n",
       "      <td>0</td>\n",
       "      <td>0</td>\n",
       "      <td>0</td>\n",
       "      <td>0</td>\n",
       "      <td>TURKEY</td>\n",
       "      <td>0</td>\n",
       "    </tr>\n",
       "  </tbody>\n",
       "</table>\n",
       "</div>"
      ],
      "text/plain": [
       "   YEAR  COUNTRY  1_HEAD_OF_STATE  1_PM  1_MFA  1_ECON  1_DEFENSE  1_ENERGY  \\\n",
       "0  2020   RUSSIA                0     0      1       0          0         0   \n",
       "1  2020   KOSOVO                0     0      1       0          0         0   \n",
       "2  2020      NaN                0     1      0       0          1         0   \n",
       "3  2020  SOMALIA                0     0      0       0          0         0   \n",
       "4  2020     KKTC                0     1      0       0          0         1   \n",
       "\n",
       "   1_OTHERS  1_LEGISLATION  2_HEAD_OF_STATES  2_PM  2_MFA  2_ECON  2_DEFENSE  \\\n",
       "0         0              0                 0     0      1       0          0   \n",
       "1         0              0                 0     0      1       0          0   \n",
       "2         1              0                 0     0      0       0          1   \n",
       "3         1              0                 1     0      0       0          0   \n",
       "4         1              0                 2     0      0       0          0   \n",
       "\n",
       "   2_ENERGY  2_OTHERS  2_LEGISLATION LOCATION  DOCUMENTS  \n",
       "0         0         0              0   RUSSIA          1  \n",
       "1         0         0              0   TURKEY          0  \n",
       "2         0         0              0    LIBYA          0  \n",
       "3         0         1              0   TURKEY          0  \n",
       "4         0         0              0   TURKEY          0  "
      ]
     },
     "execution_count": 312,
     "metadata": {},
     "output_type": "execute_result"
    }
   ],
   "source": [
    "df1.head()"
   ]
  },
  {
   "cell_type": "markdown",
   "id": "860c9f51",
   "metadata": {},
   "source": [
    "## Drop NULL values"
   ]
  },
  {
   "cell_type": "code",
   "execution_count": 313,
   "id": "39bd9389",
   "metadata": {},
   "outputs": [],
   "source": [
    "df1 = df1.loc[df1['COUNTRY'].notnull()]"
   ]
  },
  {
   "cell_type": "code",
   "execution_count": 314,
   "id": "abf05d63",
   "metadata": {},
   "outputs": [
    {
     "name": "stdout",
     "output_type": "stream",
     "text": [
      "<class 'pandas.core.frame.DataFrame'>\n",
      "Int64Index: 4249 entries, 0 to 6563\n",
      "Data columns (total 20 columns):\n",
      " #   Column            Non-Null Count  Dtype \n",
      "---  ------            --------------  ----- \n",
      " 0   YEAR              4249 non-null   int64 \n",
      " 1   COUNTRY           4249 non-null   object\n",
      " 2   1_HEAD_OF_STATE   4249 non-null   int64 \n",
      " 3   1_PM              4249 non-null   int64 \n",
      " 4   1_MFA             4249 non-null   int64 \n",
      " 5   1_ECON            4249 non-null   int64 \n",
      " 6   1_DEFENSE         4249 non-null   int64 \n",
      " 7   1_ENERGY          4249 non-null   int64 \n",
      " 8   1_OTHERS          4249 non-null   int64 \n",
      " 9   1_LEGISLATION     4249 non-null   int64 \n",
      " 10  2_HEAD_OF_STATES  4249 non-null   int64 \n",
      " 11  2_PM              4249 non-null   int64 \n",
      " 12  2_MFA             4249 non-null   int64 \n",
      " 13  2_ECON            4249 non-null   int64 \n",
      " 14  2_DEFENSE         4249 non-null   int64 \n",
      " 15  2_ENERGY          4249 non-null   int64 \n",
      " 16  2_OTHERS          4249 non-null   int64 \n",
      " 17  2_LEGISLATION     4249 non-null   int64 \n",
      " 18  LOCATION          4248 non-null   object\n",
      " 19  DOCUMENTS         4249 non-null   int64 \n",
      "dtypes: int64(18), object(2)\n",
      "memory usage: 697.1+ KB\n"
     ]
    }
   ],
   "source": [
    "df1.info()"
   ]
  },
  {
   "cell_type": "code",
   "execution_count": 315,
   "id": "0aa7c574",
   "metadata": {},
   "outputs": [
    {
     "data": {
      "text/plain": [
       "YEAR                0\n",
       "COUNTRY             0\n",
       "1_HEAD_OF_STATE     0\n",
       "1_PM                0\n",
       "1_MFA               0\n",
       "1_ECON              0\n",
       "1_DEFENSE           0\n",
       "1_ENERGY            0\n",
       "1_OTHERS            0\n",
       "1_LEGISLATION       0\n",
       "2_HEAD_OF_STATES    0\n",
       "2_PM                0\n",
       "2_MFA               0\n",
       "2_ECON              0\n",
       "2_DEFENSE           0\n",
       "2_ENERGY            0\n",
       "2_OTHERS            0\n",
       "2_LEGISLATION       0\n",
       "LOCATION            1\n",
       "DOCUMENTS           0\n",
       "dtype: int64"
      ]
     },
     "execution_count": 315,
     "metadata": {},
     "output_type": "execute_result"
    }
   ],
   "source": [
    "df1.isnull().sum()"
   ]
  },
  {
   "cell_type": "markdown",
   "id": "93f5cb04",
   "metadata": {},
   "source": [
    "One row has null value in location column"
   ]
  },
  {
   "cell_type": "code",
   "execution_count": 316,
   "id": "92dfff6f",
   "metadata": {},
   "outputs": [
    {
     "data": {
      "text/html": [
       "<div>\n",
       "<style scoped>\n",
       "    .dataframe tbody tr th:only-of-type {\n",
       "        vertical-align: middle;\n",
       "    }\n",
       "\n",
       "    .dataframe tbody tr th {\n",
       "        vertical-align: top;\n",
       "    }\n",
       "\n",
       "    .dataframe thead th {\n",
       "        text-align: right;\n",
       "    }\n",
       "</style>\n",
       "<table border=\"1\" class=\"dataframe\">\n",
       "  <thead>\n",
       "    <tr style=\"text-align: right;\">\n",
       "      <th></th>\n",
       "      <th>YEAR</th>\n",
       "      <th>COUNTRY</th>\n",
       "      <th>1_HEAD_OF_STATE</th>\n",
       "      <th>1_PM</th>\n",
       "      <th>1_MFA</th>\n",
       "      <th>1_ECON</th>\n",
       "      <th>1_DEFENSE</th>\n",
       "      <th>1_ENERGY</th>\n",
       "      <th>1_OTHERS</th>\n",
       "      <th>1_LEGISLATION</th>\n",
       "      <th>2_HEAD_OF_STATES</th>\n",
       "      <th>2_PM</th>\n",
       "      <th>2_MFA</th>\n",
       "      <th>2_ECON</th>\n",
       "      <th>2_DEFENSE</th>\n",
       "      <th>2_ENERGY</th>\n",
       "      <th>2_OTHERS</th>\n",
       "      <th>2_LEGISLATION</th>\n",
       "      <th>LOCATION</th>\n",
       "      <th>DOCUMENTS</th>\n",
       "    </tr>\n",
       "  </thead>\n",
       "  <tbody>\n",
       "    <tr>\n",
       "      <th>4731</th>\n",
       "      <td>2013</td>\n",
       "      <td>POLAND</td>\n",
       "      <td>0</td>\n",
       "      <td>0</td>\n",
       "      <td>3</td>\n",
       "      <td>0</td>\n",
       "      <td>0</td>\n",
       "      <td>0</td>\n",
       "      <td>0</td>\n",
       "      <td>0</td>\n",
       "      <td>0</td>\n",
       "      <td>0</td>\n",
       "      <td>3</td>\n",
       "      <td>0</td>\n",
       "      <td>0</td>\n",
       "      <td>0</td>\n",
       "      <td>0</td>\n",
       "      <td>0</td>\n",
       "      <td>NaN</td>\n",
       "      <td>0</td>\n",
       "    </tr>\n",
       "  </tbody>\n",
       "</table>\n",
       "</div>"
      ],
      "text/plain": [
       "      YEAR COUNTRY  1_HEAD_OF_STATE  1_PM  1_MFA  1_ECON  1_DEFENSE  1_ENERGY  \\\n",
       "4731  2013  POLAND                0     0      3       0          0         0   \n",
       "\n",
       "      1_OTHERS  1_LEGISLATION  2_HEAD_OF_STATES  2_PM  2_MFA  2_ECON  \\\n",
       "4731         0              0                 0     0      3       0   \n",
       "\n",
       "      2_DEFENSE  2_ENERGY  2_OTHERS  2_LEGISLATION LOCATION  DOCUMENTS  \n",
       "4731          0         0         0              0      NaN          0  "
      ]
     },
     "execution_count": 316,
     "metadata": {},
     "output_type": "execute_result"
    }
   ],
   "source": [
    "df1.loc[df1.LOCATION.isnull()]"
   ]
  },
  {
   "cell_type": "code",
   "execution_count": 317,
   "id": "62ae7b96",
   "metadata": {},
   "outputs": [
    {
     "data": {
      "text/html": [
       "<div>\n",
       "<style scoped>\n",
       "    .dataframe tbody tr th:only-of-type {\n",
       "        vertical-align: middle;\n",
       "    }\n",
       "\n",
       "    .dataframe tbody tr th {\n",
       "        vertical-align: top;\n",
       "    }\n",
       "\n",
       "    .dataframe thead th {\n",
       "        text-align: right;\n",
       "    }\n",
       "</style>\n",
       "<table border=\"1\" class=\"dataframe\">\n",
       "  <thead>\n",
       "    <tr style=\"text-align: right;\">\n",
       "      <th></th>\n",
       "      <th>STARTS</th>\n",
       "      <th>ENDS</th>\n",
       "      <th>DURATION</th>\n",
       "      <th>YEAR</th>\n",
       "      <th>CATEGORY</th>\n",
       "      <th>COUNTRY</th>\n",
       "      <th>NON_STATE_ACTOR</th>\n",
       "      <th>INTERNATIONAL_ORGANIZATION</th>\n",
       "      <th>MULTILATERAL</th>\n",
       "      <th>1_HEAD_OF_STATE</th>\n",
       "      <th>...</th>\n",
       "      <th>LOCATION</th>\n",
       "      <th>DOCUMENTS</th>\n",
       "      <th>EXTRA</th>\n",
       "      <th>REGION</th>\n",
       "      <th>NATO</th>\n",
       "      <th>EU</th>\n",
       "      <th>NEIGHBORS</th>\n",
       "      <th>SCO</th>\n",
       "      <th>AXIS_RF_CH_IR</th>\n",
       "      <th>OIC</th>\n",
       "    </tr>\n",
       "  </thead>\n",
       "  <tbody>\n",
       "    <tr>\n",
       "      <th>4731</th>\n",
       "      <td>2013-01-25</td>\n",
       "      <td>2013-01-25</td>\n",
       "      <td>1</td>\n",
       "      <td>2013</td>\n",
       "      <td>BILATERAL</td>\n",
       "      <td>POLAND</td>\n",
       "      <td>NaN</td>\n",
       "      <td>NaN</td>\n",
       "      <td>NaN</td>\n",
       "      <td>0</td>\n",
       "      <td>...</td>\n",
       "      <td>NaN</td>\n",
       "      <td>0</td>\n",
       "      <td>NaN</td>\n",
       "      <td>0</td>\n",
       "      <td>1</td>\n",
       "      <td>1</td>\n",
       "      <td>0</td>\n",
       "      <td>0</td>\n",
       "      <td>0</td>\n",
       "      <td>0</td>\n",
       "    </tr>\n",
       "  </tbody>\n",
       "</table>\n",
       "<p>1 rows × 36 columns</p>\n",
       "</div>"
      ],
      "text/plain": [
       "         STARTS       ENDS  DURATION  YEAR   CATEGORY COUNTRY NON_STATE_ACTOR  \\\n",
       "4731 2013-01-25 2013-01-25         1  2013  BILATERAL  POLAND             NaN   \n",
       "\n",
       "     INTERNATIONAL_ORGANIZATION MULTILATERAL  1_HEAD_OF_STATE  ...  LOCATION  \\\n",
       "4731                        NaN          NaN                0  ...       NaN   \n",
       "\n",
       "      DOCUMENTS  EXTRA  REGION  NATO  EU  NEIGHBORS  SCO  AXIS_RF_CH_IR  OIC  \n",
       "4731          0    NaN       0     1   1          0    0              0    0  \n",
       "\n",
       "[1 rows x 36 columns]"
      ]
     },
     "execution_count": 317,
     "metadata": {},
     "output_type": "execute_result"
    }
   ],
   "source": [
    "df[(df.YEAR == 2013) & (df.COUNTRY == 'POLAND') & (df['1_MFA'] == 3)]"
   ]
  },
  {
   "cell_type": "markdown",
   "id": "30e1c322",
   "metadata": {},
   "source": [
    "I have checked the data in this row from the Turkish MFA website. It is actually irrelevant. So, I dropped this row too."
   ]
  },
  {
   "cell_type": "code",
   "execution_count": 318,
   "id": "e9da30f4",
   "metadata": {},
   "outputs": [],
   "source": [
    "df1.drop(4731, axis=0, inplace = True)"
   ]
  },
  {
   "cell_type": "code",
   "execution_count": 319,
   "id": "488d9f61",
   "metadata": {},
   "outputs": [
    {
     "data": {
      "text/plain": [
       "YEAR                0\n",
       "COUNTRY             0\n",
       "1_HEAD_OF_STATE     0\n",
       "1_PM                0\n",
       "1_MFA               0\n",
       "1_ECON              0\n",
       "1_DEFENSE           0\n",
       "1_ENERGY            0\n",
       "1_OTHERS            0\n",
       "1_LEGISLATION       0\n",
       "2_HEAD_OF_STATES    0\n",
       "2_PM                0\n",
       "2_MFA               0\n",
       "2_ECON              0\n",
       "2_DEFENSE           0\n",
       "2_ENERGY            0\n",
       "2_OTHERS            0\n",
       "2_LEGISLATION       0\n",
       "LOCATION            0\n",
       "DOCUMENTS           0\n",
       "dtype: int64"
      ]
     },
     "execution_count": 319,
     "metadata": {},
     "output_type": "execute_result"
    }
   ],
   "source": [
    "df1.isnull().sum()"
   ]
  },
  {
   "cell_type": "markdown",
   "id": "dde4c9db",
   "metadata": {},
   "source": [
    "## At Least One Foreign Representative"
   ]
  },
  {
   "cell_type": "markdown",
   "id": "eb331dc5",
   "metadata": {},
   "source": [
    "For this analysis, it is important to observe how many high-level meetings Turkey have made in the last ten years. The foreign counterpart or delegation should necessarily be a high-level official while the Turkish representative may not. Thus, I will seek at least one non-zero value between columns 2 to 9."
   ]
  },
  {
   "cell_type": "code",
   "execution_count": 320,
   "id": "34f64715",
   "metadata": {},
   "outputs": [],
   "source": [
    "df1 = df1[(df1['1_HEAD_OF_STATE'] != 0) | (df1['1_PM'] != 0) | (df1['1_MFA'] != 0) | (df1['1_ECON'] != 0) | (df1['1_DEFENSE'] != 0) | (df1['1_ENERGY'] != 0) | (df1['1_OTHERS'] != 0) | (df1['1_LEGISLATION'] != 0)]"
   ]
  },
  {
   "cell_type": "code",
   "execution_count": 321,
   "id": "e24084a5",
   "metadata": {},
   "outputs": [
    {
     "name": "stdout",
     "output_type": "stream",
     "text": [
      "<class 'pandas.core.frame.DataFrame'>\n",
      "Int64Index: 3982 entries, 0 to 6563\n",
      "Data columns (total 20 columns):\n",
      " #   Column            Non-Null Count  Dtype \n",
      "---  ------            --------------  ----- \n",
      " 0   YEAR              3982 non-null   int64 \n",
      " 1   COUNTRY           3982 non-null   object\n",
      " 2   1_HEAD_OF_STATE   3982 non-null   int64 \n",
      " 3   1_PM              3982 non-null   int64 \n",
      " 4   1_MFA             3982 non-null   int64 \n",
      " 5   1_ECON            3982 non-null   int64 \n",
      " 6   1_DEFENSE         3982 non-null   int64 \n",
      " 7   1_ENERGY          3982 non-null   int64 \n",
      " 8   1_OTHERS          3982 non-null   int64 \n",
      " 9   1_LEGISLATION     3982 non-null   int64 \n",
      " 10  2_HEAD_OF_STATES  3982 non-null   int64 \n",
      " 11  2_PM              3982 non-null   int64 \n",
      " 12  2_MFA             3982 non-null   int64 \n",
      " 13  2_ECON            3982 non-null   int64 \n",
      " 14  2_DEFENSE         3982 non-null   int64 \n",
      " 15  2_ENERGY          3982 non-null   int64 \n",
      " 16  2_OTHERS          3982 non-null   int64 \n",
      " 17  2_LEGISLATION     3982 non-null   int64 \n",
      " 18  LOCATION          3982 non-null   object\n",
      " 19  DOCUMENTS         3982 non-null   int64 \n",
      "dtypes: int64(18), object(2)\n",
      "memory usage: 653.3+ KB\n"
     ]
    }
   ],
   "source": [
    "df1.info()"
   ]
  },
  {
   "cell_type": "markdown",
   "id": "a4bbdc67",
   "metadata": {},
   "source": [
    "## All Meetings"
   ]
  },
  {
   "cell_type": "markdown",
   "id": "7db313e6",
   "metadata": {},
   "source": [
    "### Turkey's all meetings in the last decade"
   ]
  },
  {
   "cell_type": "markdown",
   "id": "d868a085",
   "metadata": {},
   "source": [
    "Groupby by countries"
   ]
  },
  {
   "cell_type": "code",
   "execution_count": 322,
   "id": "cedad355",
   "metadata": {},
   "outputs": [
    {
     "data": {
      "text/html": [
       "<div>\n",
       "<style scoped>\n",
       "    .dataframe tbody tr th:only-of-type {\n",
       "        vertical-align: middle;\n",
       "    }\n",
       "\n",
       "    .dataframe tbody tr th {\n",
       "        vertical-align: top;\n",
       "    }\n",
       "\n",
       "    .dataframe thead th {\n",
       "        text-align: right;\n",
       "    }\n",
       "</style>\n",
       "<table border=\"1\" class=\"dataframe\">\n",
       "  <thead>\n",
       "    <tr style=\"text-align: right;\">\n",
       "      <th></th>\n",
       "      <th>YEAR</th>\n",
       "      <th>1_HEAD_OF_STATE</th>\n",
       "      <th>1_PM</th>\n",
       "      <th>1_MFA</th>\n",
       "      <th>1_ECON</th>\n",
       "      <th>1_DEFENSE</th>\n",
       "      <th>1_ENERGY</th>\n",
       "      <th>1_OTHERS</th>\n",
       "      <th>1_LEGISLATION</th>\n",
       "      <th>2_HEAD_OF_STATES</th>\n",
       "      <th>2_PM</th>\n",
       "      <th>2_MFA</th>\n",
       "      <th>2_ECON</th>\n",
       "      <th>2_DEFENSE</th>\n",
       "      <th>2_ENERGY</th>\n",
       "      <th>2_OTHERS</th>\n",
       "      <th>2_LEGISLATION</th>\n",
       "      <th>LOCATION</th>\n",
       "      <th>DOCUMENTS</th>\n",
       "    </tr>\n",
       "    <tr>\n",
       "      <th>COUNTRY</th>\n",
       "      <th></th>\n",
       "      <th></th>\n",
       "      <th></th>\n",
       "      <th></th>\n",
       "      <th></th>\n",
       "      <th></th>\n",
       "      <th></th>\n",
       "      <th></th>\n",
       "      <th></th>\n",
       "      <th></th>\n",
       "      <th></th>\n",
       "      <th></th>\n",
       "      <th></th>\n",
       "      <th></th>\n",
       "      <th></th>\n",
       "      <th></th>\n",
       "      <th></th>\n",
       "      <th></th>\n",
       "      <th></th>\n",
       "    </tr>\n",
       "  </thead>\n",
       "  <tbody>\n",
       "    <tr>\n",
       "      <th>USA</th>\n",
       "      <td>196</td>\n",
       "      <td>196</td>\n",
       "      <td>196</td>\n",
       "      <td>196</td>\n",
       "      <td>196</td>\n",
       "      <td>196</td>\n",
       "      <td>196</td>\n",
       "      <td>196</td>\n",
       "      <td>196</td>\n",
       "      <td>196</td>\n",
       "      <td>196</td>\n",
       "      <td>196</td>\n",
       "      <td>196</td>\n",
       "      <td>196</td>\n",
       "      <td>196</td>\n",
       "      <td>196</td>\n",
       "      <td>196</td>\n",
       "      <td>196</td>\n",
       "      <td>196</td>\n",
       "    </tr>\n",
       "    <tr>\n",
       "      <th>IRAN</th>\n",
       "      <td>143</td>\n",
       "      <td>143</td>\n",
       "      <td>143</td>\n",
       "      <td>143</td>\n",
       "      <td>143</td>\n",
       "      <td>143</td>\n",
       "      <td>143</td>\n",
       "      <td>143</td>\n",
       "      <td>143</td>\n",
       "      <td>143</td>\n",
       "      <td>143</td>\n",
       "      <td>143</td>\n",
       "      <td>143</td>\n",
       "      <td>143</td>\n",
       "      <td>143</td>\n",
       "      <td>143</td>\n",
       "      <td>143</td>\n",
       "      <td>143</td>\n",
       "      <td>143</td>\n",
       "    </tr>\n",
       "    <tr>\n",
       "      <th>IRAQ</th>\n",
       "      <td>138</td>\n",
       "      <td>138</td>\n",
       "      <td>138</td>\n",
       "      <td>138</td>\n",
       "      <td>138</td>\n",
       "      <td>138</td>\n",
       "      <td>138</td>\n",
       "      <td>138</td>\n",
       "      <td>138</td>\n",
       "      <td>138</td>\n",
       "      <td>138</td>\n",
       "      <td>138</td>\n",
       "      <td>138</td>\n",
       "      <td>138</td>\n",
       "      <td>138</td>\n",
       "      <td>138</td>\n",
       "      <td>138</td>\n",
       "      <td>138</td>\n",
       "      <td>138</td>\n",
       "    </tr>\n",
       "    <tr>\n",
       "      <th>RUSSIA</th>\n",
       "      <td>134</td>\n",
       "      <td>134</td>\n",
       "      <td>134</td>\n",
       "      <td>134</td>\n",
       "      <td>134</td>\n",
       "      <td>134</td>\n",
       "      <td>134</td>\n",
       "      <td>134</td>\n",
       "      <td>134</td>\n",
       "      <td>134</td>\n",
       "      <td>134</td>\n",
       "      <td>134</td>\n",
       "      <td>134</td>\n",
       "      <td>134</td>\n",
       "      <td>134</td>\n",
       "      <td>134</td>\n",
       "      <td>134</td>\n",
       "      <td>134</td>\n",
       "      <td>134</td>\n",
       "    </tr>\n",
       "    <tr>\n",
       "      <th>GERMANY</th>\n",
       "      <td>128</td>\n",
       "      <td>128</td>\n",
       "      <td>128</td>\n",
       "      <td>128</td>\n",
       "      <td>128</td>\n",
       "      <td>128</td>\n",
       "      <td>128</td>\n",
       "      <td>128</td>\n",
       "      <td>128</td>\n",
       "      <td>128</td>\n",
       "      <td>128</td>\n",
       "      <td>128</td>\n",
       "      <td>128</td>\n",
       "      <td>128</td>\n",
       "      <td>128</td>\n",
       "      <td>128</td>\n",
       "      <td>128</td>\n",
       "      <td>128</td>\n",
       "      <td>128</td>\n",
       "    </tr>\n",
       "    <tr>\n",
       "      <th>KKTC</th>\n",
       "      <td>121</td>\n",
       "      <td>121</td>\n",
       "      <td>121</td>\n",
       "      <td>121</td>\n",
       "      <td>121</td>\n",
       "      <td>121</td>\n",
       "      <td>121</td>\n",
       "      <td>121</td>\n",
       "      <td>121</td>\n",
       "      <td>121</td>\n",
       "      <td>121</td>\n",
       "      <td>121</td>\n",
       "      <td>121</td>\n",
       "      <td>121</td>\n",
       "      <td>121</td>\n",
       "      <td>121</td>\n",
       "      <td>121</td>\n",
       "      <td>121</td>\n",
       "      <td>121</td>\n",
       "    </tr>\n",
       "    <tr>\n",
       "      <th>QATAR</th>\n",
       "      <td>114</td>\n",
       "      <td>114</td>\n",
       "      <td>114</td>\n",
       "      <td>114</td>\n",
       "      <td>114</td>\n",
       "      <td>114</td>\n",
       "      <td>114</td>\n",
       "      <td>114</td>\n",
       "      <td>114</td>\n",
       "      <td>114</td>\n",
       "      <td>114</td>\n",
       "      <td>114</td>\n",
       "      <td>114</td>\n",
       "      <td>114</td>\n",
       "      <td>114</td>\n",
       "      <td>114</td>\n",
       "      <td>114</td>\n",
       "      <td>114</td>\n",
       "      <td>114</td>\n",
       "    </tr>\n",
       "    <tr>\n",
       "      <th>AZERBAIJAN</th>\n",
       "      <td>111</td>\n",
       "      <td>111</td>\n",
       "      <td>111</td>\n",
       "      <td>111</td>\n",
       "      <td>111</td>\n",
       "      <td>111</td>\n",
       "      <td>111</td>\n",
       "      <td>111</td>\n",
       "      <td>111</td>\n",
       "      <td>111</td>\n",
       "      <td>111</td>\n",
       "      <td>111</td>\n",
       "      <td>111</td>\n",
       "      <td>111</td>\n",
       "      <td>111</td>\n",
       "      <td>111</td>\n",
       "      <td>111</td>\n",
       "      <td>111</td>\n",
       "      <td>111</td>\n",
       "    </tr>\n",
       "    <tr>\n",
       "      <th>UK</th>\n",
       "      <td>84</td>\n",
       "      <td>84</td>\n",
       "      <td>84</td>\n",
       "      <td>84</td>\n",
       "      <td>84</td>\n",
       "      <td>84</td>\n",
       "      <td>84</td>\n",
       "      <td>84</td>\n",
       "      <td>84</td>\n",
       "      <td>84</td>\n",
       "      <td>84</td>\n",
       "      <td>84</td>\n",
       "      <td>84</td>\n",
       "      <td>84</td>\n",
       "      <td>84</td>\n",
       "      <td>84</td>\n",
       "      <td>84</td>\n",
       "      <td>84</td>\n",
       "      <td>84</td>\n",
       "    </tr>\n",
       "    <tr>\n",
       "      <th>GREECE</th>\n",
       "      <td>81</td>\n",
       "      <td>81</td>\n",
       "      <td>81</td>\n",
       "      <td>81</td>\n",
       "      <td>81</td>\n",
       "      <td>81</td>\n",
       "      <td>81</td>\n",
       "      <td>81</td>\n",
       "      <td>81</td>\n",
       "      <td>81</td>\n",
       "      <td>81</td>\n",
       "      <td>81</td>\n",
       "      <td>81</td>\n",
       "      <td>81</td>\n",
       "      <td>81</td>\n",
       "      <td>81</td>\n",
       "      <td>81</td>\n",
       "      <td>81</td>\n",
       "      <td>81</td>\n",
       "    </tr>\n",
       "  </tbody>\n",
       "</table>\n",
       "</div>"
      ],
      "text/plain": [
       "            YEAR  1_HEAD_OF_STATE  1_PM  1_MFA  1_ECON  1_DEFENSE  1_ENERGY  \\\n",
       "COUNTRY                                                                       \n",
       "USA          196              196   196    196     196        196       196   \n",
       "IRAN         143              143   143    143     143        143       143   \n",
       "IRAQ         138              138   138    138     138        138       138   \n",
       "RUSSIA       134              134   134    134     134        134       134   \n",
       "GERMANY      128              128   128    128     128        128       128   \n",
       "KKTC         121              121   121    121     121        121       121   \n",
       "QATAR        114              114   114    114     114        114       114   \n",
       "AZERBAIJAN   111              111   111    111     111        111       111   \n",
       "UK            84               84    84     84      84         84        84   \n",
       "GREECE        81               81    81     81      81         81        81   \n",
       "\n",
       "            1_OTHERS  1_LEGISLATION  2_HEAD_OF_STATES  2_PM  2_MFA  2_ECON  \\\n",
       "COUNTRY                                                                      \n",
       "USA              196            196               196   196    196     196   \n",
       "IRAN             143            143               143   143    143     143   \n",
       "IRAQ             138            138               138   138    138     138   \n",
       "RUSSIA           134            134               134   134    134     134   \n",
       "GERMANY          128            128               128   128    128     128   \n",
       "KKTC             121            121               121   121    121     121   \n",
       "QATAR            114            114               114   114    114     114   \n",
       "AZERBAIJAN       111            111               111   111    111     111   \n",
       "UK                84             84                84    84     84      84   \n",
       "GREECE            81             81                81    81     81      81   \n",
       "\n",
       "            2_DEFENSE  2_ENERGY  2_OTHERS  2_LEGISLATION  LOCATION  DOCUMENTS  \n",
       "COUNTRY                                                                        \n",
       "USA               196       196       196            196       196        196  \n",
       "IRAN              143       143       143            143       143        143  \n",
       "IRAQ              138       138       138            138       138        138  \n",
       "RUSSIA            134       134       134            134       134        134  \n",
       "GERMANY           128       128       128            128       128        128  \n",
       "KKTC              121       121       121            121       121        121  \n",
       "QATAR             114       114       114            114       114        114  \n",
       "AZERBAIJAN        111       111       111            111       111        111  \n",
       "UK                 84        84        84             84        84         84  \n",
       "GREECE             81        81        81             81        81         81  "
      ]
     },
     "execution_count": 322,
     "metadata": {},
     "output_type": "execute_result"
    }
   ],
   "source": [
    "all_meetings = df1.groupby('COUNTRY').count().sort_values(by = ['1_PM'], ascending = False)\n",
    "all_meetings.head(10)"
   ]
  },
  {
   "cell_type": "markdown",
   "id": "b082bd2c",
   "metadata": {},
   "source": [
    "Since all columns have same values, I will keep only one column"
   ]
  },
  {
   "cell_type": "code",
   "execution_count": 341,
   "id": "85612522",
   "metadata": {},
   "outputs": [],
   "source": [
    "all_meetings = all_meetings.iloc[:,:1]"
   ]
  },
  {
   "cell_type": "markdown",
   "id": "94e5ad3e",
   "metadata": {},
   "source": [
    "I will convert the index to a column"
   ]
  },
  {
   "cell_type": "code",
   "execution_count": 342,
   "id": "34d189ed",
   "metadata": {},
   "outputs": [
    {
     "name": "stderr",
     "output_type": "stream",
     "text": [
      "<ipython-input-342-62c43f32d7b0>:1: SettingWithCopyWarning: \n",
      "A value is trying to be set on a copy of a slice from a DataFrame.\n",
      "Try using .loc[row_indexer,col_indexer] = value instead\n",
      "\n",
      "See the caveats in the documentation: https://pandas.pydata.org/pandas-docs/stable/user_guide/indexing.html#returning-a-view-versus-a-copy\n",
      "  all_meetings['COUNTRY'] = all_meetings.index\n"
     ]
    }
   ],
   "source": [
    "all_meetings['COUNTRY'] = all_meetings.index"
   ]
  },
  {
   "cell_type": "code",
   "execution_count": 346,
   "id": "342fdd36",
   "metadata": {},
   "outputs": [
    {
     "name": "stderr",
     "output_type": "stream",
     "text": [
      "/Users/azize/opt/anaconda3/lib/python3.8/site-packages/pandas/core/frame.py:4441: SettingWithCopyWarning: \n",
      "A value is trying to be set on a copy of a slice from a DataFrame\n",
      "\n",
      "See the caveats in the documentation: https://pandas.pydata.org/pandas-docs/stable/user_guide/indexing.html#returning-a-view-versus-a-copy\n",
      "  return super().rename(\n"
     ]
    }
   ],
   "source": [
    "all_meetings.rename(columns = {'YEAR': 'Count'}, inplace = True)"
   ]
  },
  {
   "cell_type": "code",
   "execution_count": 349,
   "id": "8b17521d",
   "metadata": {},
   "outputs": [
    {
     "data": {
      "text/html": [
       "<div>\n",
       "<style scoped>\n",
       "    .dataframe tbody tr th:only-of-type {\n",
       "        vertical-align: middle;\n",
       "    }\n",
       "\n",
       "    .dataframe tbody tr th {\n",
       "        vertical-align: top;\n",
       "    }\n",
       "\n",
       "    .dataframe thead th {\n",
       "        text-align: right;\n",
       "    }\n",
       "</style>\n",
       "<table border=\"1\" class=\"dataframe\">\n",
       "  <thead>\n",
       "    <tr style=\"text-align: right;\">\n",
       "      <th></th>\n",
       "      <th>Count</th>\n",
       "      <th>COUNTRY</th>\n",
       "    </tr>\n",
       "  </thead>\n",
       "  <tbody>\n",
       "    <tr>\n",
       "      <th>0</th>\n",
       "      <td>196</td>\n",
       "      <td>USA</td>\n",
       "    </tr>\n",
       "    <tr>\n",
       "      <th>1</th>\n",
       "      <td>143</td>\n",
       "      <td>IRAN</td>\n",
       "    </tr>\n",
       "    <tr>\n",
       "      <th>2</th>\n",
       "      <td>138</td>\n",
       "      <td>IRAQ</td>\n",
       "    </tr>\n",
       "  </tbody>\n",
       "</table>\n",
       "</div>"
      ],
      "text/plain": [
       "   Count COUNTRY\n",
       "0    196     USA\n",
       "1    143    IRAN\n",
       "2    138    IRAQ"
      ]
     },
     "execution_count": 349,
     "metadata": {},
     "output_type": "execute_result"
    }
   ],
   "source": [
    "all_meetings.reset_index(drop=True, inplace=True)\n",
    "all_meetings.head(3)"
   ]
  },
  {
   "cell_type": "markdown",
   "id": "28b92810",
   "metadata": {},
   "source": [
    "## All Meetings Bar Plot"
   ]
  },
  {
   "cell_type": "markdown",
   "id": "c3e1a5eb",
   "metadata": {},
   "source": [
    "Since KKTC is recognized only by Turkey, number of Turkish-KKTC meetings is unsurprisingly high. This can be misleading for our analysis because Turkey is the only country that KKTC has diplomatic relations. Thus, I will drop KKTC from this analysis."
   ]
  },
  {
   "cell_type": "code",
   "execution_count": 323,
   "id": "76ad8b0c",
   "metadata": {},
   "outputs": [],
   "source": [
    "all_top10 = all_meetings[all_meetings.index != 'KKTC'].iloc[0:10,:]"
   ]
  },
  {
   "cell_type": "code",
   "execution_count": 241,
   "id": "65695608",
   "metadata": {},
   "outputs": [],
   "source": [
    "sns.set_theme(style=\"darkgrid\")"
   ]
  },
  {
   "cell_type": "code",
   "execution_count": 514,
   "id": "a43eaa5f",
   "metadata": {},
   "outputs": [
    {
     "data": {
      "text/plain": [
       "<Figure size 1800x1440 with 0 Axes>"
      ]
     },
     "execution_count": 514,
     "metadata": {},
     "output_type": "execute_result"
    },
    {
     "data": {
      "text/plain": [
       "<Figure size 1800x1440 with 0 Axes>"
      ]
     },
     "metadata": {},
     "output_type": "display_data"
    }
   ],
   "source": [
    "plt.figure(figsize=(25,20))"
   ]
  },
  {
   "cell_type": "code",
   "execution_count": 517,
   "id": "7c8504c0",
   "metadata": {},
   "outputs": [
    {
     "data": {
      "image/png": "[encoded data removed]",
      "text/plain": [
       "<Figure size 1080x720 with 1 Axes>"
      ]
     },
     "metadata": {},
     "output_type": "display_data"
    }
   ],
   "source": [
    "plt.figure(figsize=(15,10))\n",
    "ax = sns.barplot(x=all_top10.index, y=\"1_PM\", data=all_top10, palette = 'mako')\n",
    "plt.xticks(rotation=45)\n",
    "ax.set_title('All Meetings Between 2010-2020', fontsize= 20)\n",
    "ax.set_ylabel('Meetings', fontsize= 16)\n",
    "ax.set_xlabel('Countries', fontsize= 16)\n",
    "plt.tight_layout()"
   ]
  },
  {
   "cell_type": "markdown",
   "id": "f0266a93",
   "metadata": {},
   "source": [
    "### Yearly Meeting Graphic (Lineplot)"
   ]
  },
  {
   "cell_type": "markdown",
   "id": "6eb422d2",
   "metadata": {},
   "source": [
    "Yearly sum of meetings"
   ]
  },
  {
   "cell_type": "code",
   "execution_count": 552,
   "id": "e85466d3",
   "metadata": {},
   "outputs": [
    {
     "data": {
      "text/html": [
       "<div>\n",
       "<style scoped>\n",
       "    .dataframe tbody tr th:only-of-type {\n",
       "        vertical-align: middle;\n",
       "    }\n",
       "\n",
       "    .dataframe tbody tr th {\n",
       "        vertical-align: top;\n",
       "    }\n",
       "\n",
       "    .dataframe thead th {\n",
       "        text-align: right;\n",
       "    }\n",
       "</style>\n",
       "<table border=\"1\" class=\"dataframe\">\n",
       "  <thead>\n",
       "    <tr style=\"text-align: right;\">\n",
       "      <th></th>\n",
       "      <th>COUNTRY</th>\n",
       "    </tr>\n",
       "    <tr>\n",
       "      <th>YEAR</th>\n",
       "      <th></th>\n",
       "    </tr>\n",
       "  </thead>\n",
       "  <tbody>\n",
       "    <tr>\n",
       "      <th>2010</th>\n",
       "      <td>344</td>\n",
       "    </tr>\n",
       "    <tr>\n",
       "      <th>2011</th>\n",
       "      <td>289</td>\n",
       "    </tr>\n",
       "    <tr>\n",
       "      <th>2012</th>\n",
       "      <td>382</td>\n",
       "    </tr>\n",
       "    <tr>\n",
       "      <th>2013</th>\n",
       "      <td>310</td>\n",
       "    </tr>\n",
       "    <tr>\n",
       "      <th>2014</th>\n",
       "      <td>397</td>\n",
       "    </tr>\n",
       "    <tr>\n",
       "      <th>2015</th>\n",
       "      <td>368</td>\n",
       "    </tr>\n",
       "    <tr>\n",
       "      <th>2016</th>\n",
       "      <td>394</td>\n",
       "    </tr>\n",
       "    <tr>\n",
       "      <th>2017</th>\n",
       "      <td>416</td>\n",
       "    </tr>\n",
       "    <tr>\n",
       "      <th>2018</th>\n",
       "      <td>406</td>\n",
       "    </tr>\n",
       "    <tr>\n",
       "      <th>2019</th>\n",
       "      <td>442</td>\n",
       "    </tr>\n",
       "    <tr>\n",
       "      <th>2020</th>\n",
       "      <td>234</td>\n",
       "    </tr>\n",
       "  </tbody>\n",
       "</table>\n",
       "</div>"
      ],
      "text/plain": [
       "      COUNTRY\n",
       "YEAR         \n",
       "2010      344\n",
       "2011      289\n",
       "2012      382\n",
       "2013      310\n",
       "2014      397\n",
       "2015      368\n",
       "2016      394\n",
       "2017      416\n",
       "2018      406\n",
       "2019      442\n",
       "2020      234"
      ]
     },
     "execution_count": 552,
     "metadata": {},
     "output_type": "execute_result"
    }
   ],
   "source": [
    "years = df1.groupby('YEAR').count().iloc[:, :1]\n",
    "years"
   ]
  },
  {
   "cell_type": "code",
   "execution_count": 554,
   "id": "6a33b86d",
   "metadata": {},
   "outputs": [],
   "source": [
    "years.rename(columns={'COUNTRY': 'Total'}, inplace = True)"
   ]
  },
  {
   "cell_type": "markdown",
   "id": "7b3fef27",
   "metadata": {},
   "source": [
    "Presidential Meetings"
   ]
  },
  {
   "cell_type": "code",
   "execution_count": 551,
   "id": "ce880074",
   "metadata": {},
   "outputs": [
    {
     "data": {
      "text/html": [
       "<div>\n",
       "<style scoped>\n",
       "    .dataframe tbody tr th:only-of-type {\n",
       "        vertical-align: middle;\n",
       "    }\n",
       "\n",
       "    .dataframe tbody tr th {\n",
       "        vertical-align: top;\n",
       "    }\n",
       "\n",
       "    .dataframe thead th {\n",
       "        text-align: right;\n",
       "    }\n",
       "</style>\n",
       "<table border=\"1\" class=\"dataframe\">\n",
       "  <thead>\n",
       "    <tr style=\"text-align: right;\">\n",
       "      <th></th>\n",
       "      <th>COUNTRY</th>\n",
       "    </tr>\n",
       "    <tr>\n",
       "      <th>YEAR</th>\n",
       "      <th></th>\n",
       "    </tr>\n",
       "  </thead>\n",
       "  <tbody>\n",
       "    <tr>\n",
       "      <th>2010</th>\n",
       "      <td>88</td>\n",
       "    </tr>\n",
       "    <tr>\n",
       "      <th>2011</th>\n",
       "      <td>75</td>\n",
       "    </tr>\n",
       "    <tr>\n",
       "      <th>2012</th>\n",
       "      <td>80</td>\n",
       "    </tr>\n",
       "    <tr>\n",
       "      <th>2013</th>\n",
       "      <td>53</td>\n",
       "    </tr>\n",
       "    <tr>\n",
       "      <th>2014</th>\n",
       "      <td>89</td>\n",
       "    </tr>\n",
       "    <tr>\n",
       "      <th>2015</th>\n",
       "      <td>103</td>\n",
       "    </tr>\n",
       "    <tr>\n",
       "      <th>2016</th>\n",
       "      <td>126</td>\n",
       "    </tr>\n",
       "    <tr>\n",
       "      <th>2017</th>\n",
       "      <td>120</td>\n",
       "    </tr>\n",
       "    <tr>\n",
       "      <th>2018</th>\n",
       "      <td>82</td>\n",
       "    </tr>\n",
       "    <tr>\n",
       "      <th>2019</th>\n",
       "      <td>95</td>\n",
       "    </tr>\n",
       "    <tr>\n",
       "      <th>2020</th>\n",
       "      <td>49</td>\n",
       "    </tr>\n",
       "  </tbody>\n",
       "</table>\n",
       "</div>"
      ],
      "text/plain": [
       "      COUNTRY\n",
       "YEAR         \n",
       "2010       88\n",
       "2011       75\n",
       "2012       80\n",
       "2013       53\n",
       "2014       89\n",
       "2015      103\n",
       "2016      126\n",
       "2017      120\n",
       "2018       82\n",
       "2019       95\n",
       "2020       49"
      ]
     },
     "execution_count": 551,
     "metadata": {},
     "output_type": "execute_result"
    }
   ],
   "source": [
    "pres = df1[df1['2_HEAD_OF_STATES'] == 1].groupby('YEAR').count().iloc[:,:1]\n",
    "pres"
   ]
  },
  {
   "cell_type": "code",
   "execution_count": 555,
   "id": "a215ecde",
   "metadata": {},
   "outputs": [],
   "source": [
    "pres.rename(columns={'COUNTRY': 'President'}, inplace = True)"
   ]
  },
  {
   "cell_type": "markdown",
   "id": "e2cc1ab9",
   "metadata": {},
   "source": [
    "Merge two tables"
   ]
  },
  {
   "cell_type": "code",
   "execution_count": 558,
   "id": "1892c975",
   "metadata": {},
   "outputs": [
    {
     "data": {
      "text/html": [
       "<div>\n",
       "<style scoped>\n",
       "    .dataframe tbody tr th:only-of-type {\n",
       "        vertical-align: middle;\n",
       "    }\n",
       "\n",
       "    .dataframe tbody tr th {\n",
       "        vertical-align: top;\n",
       "    }\n",
       "\n",
       "    .dataframe thead th {\n",
       "        text-align: right;\n",
       "    }\n",
       "</style>\n",
       "<table border=\"1\" class=\"dataframe\">\n",
       "  <thead>\n",
       "    <tr style=\"text-align: right;\">\n",
       "      <th></th>\n",
       "      <th>key_0</th>\n",
       "      <th>Total</th>\n",
       "      <th>President</th>\n",
       "    </tr>\n",
       "  </thead>\n",
       "  <tbody>\n",
       "    <tr>\n",
       "      <th>0</th>\n",
       "      <td>2010</td>\n",
       "      <td>344</td>\n",
       "      <td>88</td>\n",
       "    </tr>\n",
       "    <tr>\n",
       "      <th>1</th>\n",
       "      <td>2011</td>\n",
       "      <td>289</td>\n",
       "      <td>75</td>\n",
       "    </tr>\n",
       "    <tr>\n",
       "      <th>2</th>\n",
       "      <td>2012</td>\n",
       "      <td>382</td>\n",
       "      <td>80</td>\n",
       "    </tr>\n",
       "    <tr>\n",
       "      <th>3</th>\n",
       "      <td>2013</td>\n",
       "      <td>310</td>\n",
       "      <td>53</td>\n",
       "    </tr>\n",
       "    <tr>\n",
       "      <th>4</th>\n",
       "      <td>2014</td>\n",
       "      <td>397</td>\n",
       "      <td>89</td>\n",
       "    </tr>\n",
       "    <tr>\n",
       "      <th>5</th>\n",
       "      <td>2015</td>\n",
       "      <td>368</td>\n",
       "      <td>103</td>\n",
       "    </tr>\n",
       "    <tr>\n",
       "      <th>6</th>\n",
       "      <td>2016</td>\n",
       "      <td>394</td>\n",
       "      <td>126</td>\n",
       "    </tr>\n",
       "    <tr>\n",
       "      <th>7</th>\n",
       "      <td>2017</td>\n",
       "      <td>416</td>\n",
       "      <td>120</td>\n",
       "    </tr>\n",
       "    <tr>\n",
       "      <th>8</th>\n",
       "      <td>2018</td>\n",
       "      <td>406</td>\n",
       "      <td>82</td>\n",
       "    </tr>\n",
       "    <tr>\n",
       "      <th>9</th>\n",
       "      <td>2019</td>\n",
       "      <td>442</td>\n",
       "      <td>95</td>\n",
       "    </tr>\n",
       "    <tr>\n",
       "      <th>10</th>\n",
       "      <td>2020</td>\n",
       "      <td>234</td>\n",
       "      <td>49</td>\n",
       "    </tr>\n",
       "  </tbody>\n",
       "</table>\n",
       "</div>"
      ],
      "text/plain": [
       "    key_0  Total  President\n",
       "0    2010    344         88\n",
       "1    2011    289         75\n",
       "2    2012    382         80\n",
       "3    2013    310         53\n",
       "4    2014    397         89\n",
       "5    2015    368        103\n",
       "6    2016    394        126\n",
       "7    2017    416        120\n",
       "8    2018    406         82\n",
       "9    2019    442         95\n",
       "10   2020    234         49"
      ]
     },
     "execution_count": 558,
     "metadata": {},
     "output_type": "execute_result"
    }
   ],
   "source": [
    "yearly_sum = years.merge(pres,on=pres.index)\n",
    "yearly_sum"
   ]
  },
  {
   "cell_type": "code",
   "execution_count": 559,
   "id": "44c344c6",
   "metadata": {},
   "outputs": [],
   "source": [
    "yearly_sum.rename(columns={'key_0': 'Years'}, inplace = True) #I have changed the name of key_0 column to year."
   ]
  },
  {
   "cell_type": "code",
   "execution_count": 563,
   "id": "9563a711",
   "metadata": {},
   "outputs": [
    {
     "data": {
      "text/html": [
       "<div>\n",
       "<style scoped>\n",
       "    .dataframe tbody tr th:only-of-type {\n",
       "        vertical-align: middle;\n",
       "    }\n",
       "\n",
       "    .dataframe tbody tr th {\n",
       "        vertical-align: top;\n",
       "    }\n",
       "\n",
       "    .dataframe thead th {\n",
       "        text-align: right;\n",
       "    }\n",
       "</style>\n",
       "<table border=\"1\" class=\"dataframe\">\n",
       "  <thead>\n",
       "    <tr style=\"text-align: right;\">\n",
       "      <th></th>\n",
       "      <th>Years</th>\n",
       "      <th>Total</th>\n",
       "      <th>President</th>\n",
       "    </tr>\n",
       "  </thead>\n",
       "  <tbody>\n",
       "    <tr>\n",
       "      <th>0</th>\n",
       "      <td>2010</td>\n",
       "      <td>344</td>\n",
       "      <td>88</td>\n",
       "    </tr>\n",
       "    <tr>\n",
       "      <th>1</th>\n",
       "      <td>2011</td>\n",
       "      <td>289</td>\n",
       "      <td>75</td>\n",
       "    </tr>\n",
       "    <tr>\n",
       "      <th>2</th>\n",
       "      <td>2012</td>\n",
       "      <td>382</td>\n",
       "      <td>80</td>\n",
       "    </tr>\n",
       "    <tr>\n",
       "      <th>3</th>\n",
       "      <td>2013</td>\n",
       "      <td>310</td>\n",
       "      <td>53</td>\n",
       "    </tr>\n",
       "    <tr>\n",
       "      <th>4</th>\n",
       "      <td>2014</td>\n",
       "      <td>397</td>\n",
       "      <td>89</td>\n",
       "    </tr>\n",
       "    <tr>\n",
       "      <th>5</th>\n",
       "      <td>2015</td>\n",
       "      <td>368</td>\n",
       "      <td>103</td>\n",
       "    </tr>\n",
       "    <tr>\n",
       "      <th>6</th>\n",
       "      <td>2016</td>\n",
       "      <td>394</td>\n",
       "      <td>126</td>\n",
       "    </tr>\n",
       "    <tr>\n",
       "      <th>7</th>\n",
       "      <td>2017</td>\n",
       "      <td>416</td>\n",
       "      <td>120</td>\n",
       "    </tr>\n",
       "    <tr>\n",
       "      <th>8</th>\n",
       "      <td>2018</td>\n",
       "      <td>406</td>\n",
       "      <td>82</td>\n",
       "    </tr>\n",
       "    <tr>\n",
       "      <th>9</th>\n",
       "      <td>2019</td>\n",
       "      <td>442</td>\n",
       "      <td>95</td>\n",
       "    </tr>\n",
       "    <tr>\n",
       "      <th>10</th>\n",
       "      <td>2020</td>\n",
       "      <td>234</td>\n",
       "      <td>49</td>\n",
       "    </tr>\n",
       "  </tbody>\n",
       "</table>\n",
       "</div>"
      ],
      "text/plain": [
       "    Years  Total  President\n",
       "0    2010    344         88\n",
       "1    2011    289         75\n",
       "2    2012    382         80\n",
       "3    2013    310         53\n",
       "4    2014    397         89\n",
       "5    2015    368        103\n",
       "6    2016    394        126\n",
       "7    2017    416        120\n",
       "8    2018    406         82\n",
       "9    2019    442         95\n",
       "10   2020    234         49"
      ]
     },
     "execution_count": 563,
     "metadata": {},
     "output_type": "execute_result"
    }
   ],
   "source": [
    "yearly_sum"
   ]
  },
  {
   "cell_type": "code",
   "execution_count": 586,
   "id": "0360a5c4",
   "metadata": {},
   "outputs": [
    {
     "data": {
      "image/png": "[encoded data removed]",
      "text/plain": [
       "<Figure size 1080x720 with 1 Axes>"
      ]
     },
     "metadata": {},
     "output_type": "display_data"
    }
   ],
   "source": [
    "plt.figure(figsize=(15,10))\n",
    "sns.lineplot(data=yearly_sum, x=\"Years\", y=\"Total\", palette = 'Blue', markers = True, linewidth=2.5).set_title('Yearly High-Level Meeting Numbers (Total)', fontsize= 20, fontweight= 'bold')\n",
    "sns.lineplot(data=yearly_sum, x=\"Years\", y=\"President\", palette = 'Red', markers = True, linewidth=2.5)\n",
    "plt.xlabel(\"Years\", fontsize= 16)\n",
    "plt.ylabel(\"Number of Meetings\", fontsize= 16)\n",
    "plt.axvline(x=2011,linestyle=':')\n",
    "plt.text(x = 2011, y=440, s= \"Arab Spring\", c='red', fontweight= 'bold')\n",
    "plt.axvline(x=2013,linestyle=':')\n",
    "plt.text(x = 2013, y=450, s= \"Gezi Demonstrations\", c='#FF9B00', fontweight= 'bold')\n",
    "plt.axvline(x=2014,linestyle=':')\n",
    "plt.text(x = 2014, y=440, s= \"Presidential Elections\", c='red', fontweight= 'bold')\n",
    "plt.axvline(x=2016,linestyle=':')\n",
    "plt.text(x = 2016, y=450, s= \"Coup Attempt\", c='#FF9B00', fontweight= 'bold')\n",
    "plt.axvline(x=2020,linestyle=':')\n",
    "plt.text(x = 2020, y=440, s= \"COVID-19\", c='red', fontweight= 'bold')\n",
    "plt.text(x = 2020, y=49, s= \"President's meetings\", c='orange', fontweight= 'bold')\n",
    "plt.text(x = 2020, y=234, s= \"All meetings\", c='navy', fontweight= 'bold')\n",
    "plt.tight_layout()"
   ]
  },
  {
   "cell_type": "markdown",
   "id": "e2bd74cf",
   "metadata": {},
   "source": [
    "## Visualization on the World Map"
   ]
  },
  {
   "cell_type": "markdown",
   "id": "70d3db3f",
   "metadata": {},
   "source": [
    "Hua Shi's geopandas tutorial (https://melaniesoek0120.medium.com/data-visualization-how-to-plot-a-map-with-geopandas-in-python-73b10dcd4b4b) has helped me a lot although it has some problems. I have taken below function from her blog.\n",
    "\n",
    "For the map, we need geometry, latitude, and longitude data which I will import from other sources and merge with my all_meetings dataframe. But country names are written in different ways in different datasets. Thus, in order to merge geographical data with my dataframe, I need standardized ISO country codes."
   ]
  },
  {
   "cell_type": "markdown",
   "id": "1b072f41",
   "metadata": {},
   "source": [
    "### Importing ISO Country Codes"
   ]
  },
  {
   "cell_type": "code",
   "execution_count": 245,
   "id": "77adb89b",
   "metadata": {},
   "outputs": [],
   "source": [
    "import pycountry #for 3-digit and 2-digit iso country codes"
   ]
  },
  {
   "cell_type": "code",
   "execution_count": 246,
   "id": "13ce7db7",
   "metadata": {},
   "outputs": [],
   "source": [
    "def alpha3code(column):\n",
    "    CODE=[]\n",
    "    for country in column:\n",
    "        try:\n",
    "            code=pycountry.countries.get(name=country).alpha_3\n",
    "           # .alpha_3 means 3-letter country code\n",
    "            CODE.append(code)\n",
    "        except:\n",
    "            CODE.append('None')\n",
    "    return CODE"
   ]
  },
  {
   "cell_type": "code",
   "execution_count": 352,
   "id": "458ba16d",
   "metadata": {},
   "outputs": [
    {
     "data": {
      "text/html": [
       "<div>\n",
       "<style scoped>\n",
       "    .dataframe tbody tr th:only-of-type {\n",
       "        vertical-align: middle;\n",
       "    }\n",
       "\n",
       "    .dataframe tbody tr th {\n",
       "        vertical-align: top;\n",
       "    }\n",
       "\n",
       "    .dataframe thead th {\n",
       "        text-align: right;\n",
       "    }\n",
       "</style>\n",
       "<table border=\"1\" class=\"dataframe\">\n",
       "  <thead>\n",
       "    <tr style=\"text-align: right;\">\n",
       "      <th></th>\n",
       "      <th>Count</th>\n",
       "      <th>COUNTRY</th>\n",
       "      <th>CODE</th>\n",
       "    </tr>\n",
       "  </thead>\n",
       "  <tbody>\n",
       "    <tr>\n",
       "      <th>0</th>\n",
       "      <td>196</td>\n",
       "      <td>USA</td>\n",
       "      <td>None</td>\n",
       "    </tr>\n",
       "    <tr>\n",
       "      <th>1</th>\n",
       "      <td>143</td>\n",
       "      <td>IRAN</td>\n",
       "      <td>None</td>\n",
       "    </tr>\n",
       "    <tr>\n",
       "      <th>2</th>\n",
       "      <td>138</td>\n",
       "      <td>IRAQ</td>\n",
       "      <td>IRQ</td>\n",
       "    </tr>\n",
       "  </tbody>\n",
       "</table>\n",
       "</div>"
      ],
      "text/plain": [
       "   Count COUNTRY  CODE\n",
       "0    196     USA  None\n",
       "1    143    IRAN  None\n",
       "2    138    IRAQ   IRQ"
      ]
     },
     "execution_count": 352,
     "metadata": {},
     "output_type": "execute_result"
    }
   ],
   "source": [
    "all_meetings.head(3)"
   ]
  },
  {
   "cell_type": "code",
   "execution_count": 350,
   "id": "2af06c24",
   "metadata": {},
   "outputs": [
    {
     "name": "stderr",
     "output_type": "stream",
     "text": [
      "<ipython-input-350-574b200461d1>:2: SettingWithCopyWarning: \n",
      "A value is trying to be set on a copy of a slice from a DataFrame.\n",
      "Try using .loc[row_indexer,col_indexer] = value instead\n",
      "\n",
      "See the caveats in the documentation: https://pandas.pydata.org/pandas-docs/stable/user_guide/indexing.html#returning-a-view-versus-a-copy\n",
      "  all_meetings['CODE']=alpha3code(all_meetings.COUNTRY)\n"
     ]
    },
    {
     "data": {
      "text/html": [
       "<div>\n",
       "<style scoped>\n",
       "    .dataframe tbody tr th:only-of-type {\n",
       "        vertical-align: middle;\n",
       "    }\n",
       "\n",
       "    .dataframe tbody tr th {\n",
       "        vertical-align: top;\n",
       "    }\n",
       "\n",
       "    .dataframe thead th {\n",
       "        text-align: right;\n",
       "    }\n",
       "</style>\n",
       "<table border=\"1\" class=\"dataframe\">\n",
       "  <thead>\n",
       "    <tr style=\"text-align: right;\">\n",
       "      <th></th>\n",
       "      <th>Count</th>\n",
       "      <th>COUNTRY</th>\n",
       "      <th>CODE</th>\n",
       "    </tr>\n",
       "  </thead>\n",
       "  <tbody>\n",
       "    <tr>\n",
       "      <th>0</th>\n",
       "      <td>196</td>\n",
       "      <td>USA</td>\n",
       "      <td>None</td>\n",
       "    </tr>\n",
       "    <tr>\n",
       "      <th>1</th>\n",
       "      <td>143</td>\n",
       "      <td>IRAN</td>\n",
       "      <td>None</td>\n",
       "    </tr>\n",
       "    <tr>\n",
       "      <th>2</th>\n",
       "      <td>138</td>\n",
       "      <td>IRAQ</td>\n",
       "      <td>IRQ</td>\n",
       "    </tr>\n",
       "    <tr>\n",
       "      <th>3</th>\n",
       "      <td>134</td>\n",
       "      <td>RUSSIA</td>\n",
       "      <td>None</td>\n",
       "    </tr>\n",
       "    <tr>\n",
       "      <th>4</th>\n",
       "      <td>128</td>\n",
       "      <td>GERMANY</td>\n",
       "      <td>DEU</td>\n",
       "    </tr>\n",
       "  </tbody>\n",
       "</table>\n",
       "</div>"
      ],
      "text/plain": [
       "   Count  COUNTRY  CODE\n",
       "0    196      USA  None\n",
       "1    143     IRAN  None\n",
       "2    138     IRAQ   IRQ\n",
       "3    134   RUSSIA  None\n",
       "4    128  GERMANY   DEU"
      ]
     },
     "execution_count": 350,
     "metadata": {},
     "output_type": "execute_result"
    }
   ],
   "source": [
    "# create a column for code \n",
    "all_meetings['CODE']=alpha3code(all_meetings.COUNTRY)\n",
    "all_meetings.head()"
   ]
  },
  {
   "cell_type": "markdown",
   "id": "da54c009",
   "metadata": {},
   "source": [
    "Check which countries' names have returned 'None'."
   ]
  },
  {
   "cell_type": "code",
   "execution_count": 353,
   "id": "2cfa8f99",
   "metadata": {},
   "outputs": [
    {
     "data": {
      "text/plain": [
       "array(['USA', 'IRAN', 'RUSSIA', 'KKTC', 'UK', 'KOSOVO', 'MOLDOVA',\n",
       "       'VENEZUELA', 'PALESTINE', 'SOUTH KOREA', 'SYRIA', 'UAE',\n",
       "       'TANZANIA', 'IVORY COAST', 'REPUBLIC OF CONGO', 'VIETNAM',\n",
       "       'GUINEA BISSAU', 'BRUNEI', 'BOLIVIA', 'VATICAN',\n",
       "       'DEMOCRATIC REPUBLIC OF CONGO', 'LETONIA', 'LAOS', 'FAROE ISLAND',\n",
       "       'ST VINCENT AND THE GRENADINES', 'CAPE VERDE'], dtype=object)"
      ]
     },
     "execution_count": 353,
     "metadata": {},
     "output_type": "execute_result"
    }
   ],
   "source": [
    "all_meetings[all_meetings['CODE'] == 'None'].COUNTRY.unique()"
   ]
  },
  {
   "cell_type": "code",
   "execution_count": 249,
   "id": "3839f22d",
   "metadata": {},
   "outputs": [
    {
     "data": {
      "text/plain": [
       "[Country(alpha_2='AW', alpha_3='ABW', flag='🇦🇼', name='Aruba', numeric='533'),\n",
       " Country(alpha_2='AF', alpha_3='AFG', flag='🇦🇫', name='Afghanistan', numeric='004', official_name='Islamic Republic of Afghanistan'),\n",
       " Country(alpha_2='AO', alpha_3='AGO', flag='🇦🇴', name='Angola', numeric='024', official_name='Republic of Angola'),\n",
       " Country(alpha_2='AI', alpha_3='AIA', flag='🇦🇮', name='Anguilla', numeric='660'),\n",
       " Country(alpha_2='AX', alpha_3='ALA', flag='🇦🇽', name='Åland Islands', numeric='248'),\n",
       " Country(alpha_2='AL', alpha_3='ALB', flag='🇦🇱', name='Albania', numeric='008', official_name='Republic of Albania'),\n",
       " Country(alpha_2='AD', alpha_3='AND', flag='🇦🇩', name='Andorra', numeric='020', official_name='Principality of Andorra'),\n",
       " Country(alpha_2='AE', alpha_3='ARE', flag='🇦🇪', name='United Arab Emirates', numeric='784'),\n",
       " Country(alpha_2='AR', alpha_3='ARG', flag='🇦🇷', name='Argentina', numeric='032', official_name='Argentine Republic'),\n",
       " Country(alpha_2='AM', alpha_3='ARM', flag='🇦🇲', name='Armenia', numeric='051', official_name='Republic of Armenia'),\n",
       " Country(alpha_2='AS', alpha_3='ASM', flag='🇦🇸', name='American Samoa', numeric='016'),\n",
       " Country(alpha_2='AQ', alpha_3='ATA', flag='🇦🇶', name='Antarctica', numeric='010'),\n",
       " Country(alpha_2='TF', alpha_3='ATF', flag='🇹🇫', name='French Southern Territories', numeric='260'),\n",
       " Country(alpha_2='AG', alpha_3='ATG', flag='🇦🇬', name='Antigua and Barbuda', numeric='028'),\n",
       " Country(alpha_2='AU', alpha_3='AUS', flag='🇦🇺', name='Australia', numeric='036'),\n",
       " Country(alpha_2='AT', alpha_3='AUT', flag='🇦🇹', name='Austria', numeric='040', official_name='Republic of Austria'),\n",
       " Country(alpha_2='AZ', alpha_3='AZE', flag='🇦🇿', name='Azerbaijan', numeric='031', official_name='Republic of Azerbaijan'),\n",
       " Country(alpha_2='BI', alpha_3='BDI', flag='🇧🇮', name='Burundi', numeric='108', official_name='Republic of Burundi'),\n",
       " Country(alpha_2='BE', alpha_3='BEL', flag='🇧🇪', name='Belgium', numeric='056', official_name='Kingdom of Belgium'),\n",
       " Country(alpha_2='BJ', alpha_3='BEN', flag='🇧🇯', name='Benin', numeric='204', official_name='Republic of Benin'),\n",
       " Country(alpha_2='BQ', alpha_3='BES', flag='🇧🇶', name='Bonaire, Sint Eustatius and Saba', numeric='535', official_name='Bonaire, Sint Eustatius and Saba'),\n",
       " Country(alpha_2='BF', alpha_3='BFA', flag='🇧🇫', name='Burkina Faso', numeric='854'),\n",
       " Country(alpha_2='BD', alpha_3='BGD', flag='🇧🇩', name='Bangladesh', numeric='050', official_name=\"People's Republic of Bangladesh\"),\n",
       " Country(alpha_2='BG', alpha_3='BGR', flag='🇧🇬', name='Bulgaria', numeric='100', official_name='Republic of Bulgaria'),\n",
       " Country(alpha_2='BH', alpha_3='BHR', flag='🇧🇭', name='Bahrain', numeric='048', official_name='Kingdom of Bahrain'),\n",
       " Country(alpha_2='BS', alpha_3='BHS', flag='🇧🇸', name='Bahamas', numeric='044', official_name='Commonwealth of the Bahamas'),\n",
       " Country(alpha_2='BA', alpha_3='BIH', flag='🇧🇦', name='Bosnia and Herzegovina', numeric='070', official_name='Republic of Bosnia and Herzegovina'),\n",
       " Country(alpha_2='BL', alpha_3='BLM', flag='🇧🇱', name='Saint Barthélemy', numeric='652'),\n",
       " Country(alpha_2='BY', alpha_3='BLR', flag='🇧🇾', name='Belarus', numeric='112', official_name='Republic of Belarus'),\n",
       " Country(alpha_2='BZ', alpha_3='BLZ', flag='🇧🇿', name='Belize', numeric='084'),\n",
       " Country(alpha_2='BM', alpha_3='BMU', flag='🇧🇲', name='Bermuda', numeric='060'),\n",
       " Country(alpha_2='BO', alpha_3='BOL', common_name='Bolivia', flag='🇧🇴', name='Bolivia, Plurinational State of', numeric='068', official_name='Plurinational State of Bolivia'),\n",
       " Country(alpha_2='BR', alpha_3='BRA', flag='🇧🇷', name='Brazil', numeric='076', official_name='Federative Republic of Brazil'),\n",
       " Country(alpha_2='BB', alpha_3='BRB', flag='🇧🇧', name='Barbados', numeric='052'),\n",
       " Country(alpha_2='BN', alpha_3='BRN', flag='🇧🇳', name='Brunei Darussalam', numeric='096'),\n",
       " Country(alpha_2='BT', alpha_3='BTN', flag='🇧🇹', name='Bhutan', numeric='064', official_name='Kingdom of Bhutan'),\n",
       " Country(alpha_2='BV', alpha_3='BVT', flag='🇧🇻', name='Bouvet Island', numeric='074'),\n",
       " Country(alpha_2='BW', alpha_3='BWA', flag='🇧🇼', name='Botswana', numeric='072', official_name='Republic of Botswana'),\n",
       " Country(alpha_2='CF', alpha_3='CAF', flag='🇨🇫', name='Central African Republic', numeric='140'),\n",
       " Country(alpha_2='CA', alpha_3='CAN', flag='🇨🇦', name='Canada', numeric='124'),\n",
       " Country(alpha_2='CC', alpha_3='CCK', flag='🇨🇨', name='Cocos (Keeling) Islands', numeric='166'),\n",
       " Country(alpha_2='CH', alpha_3='CHE', flag='🇨🇭', name='Switzerland', numeric='756', official_name='Swiss Confederation'),\n",
       " Country(alpha_2='CL', alpha_3='CHL', flag='🇨🇱', name='Chile', numeric='152', official_name='Republic of Chile'),\n",
       " Country(alpha_2='CN', alpha_3='CHN', flag='🇨🇳', name='China', numeric='156', official_name=\"People's Republic of China\"),\n",
       " Country(alpha_2='CI', alpha_3='CIV', flag='🇨🇮', name=\"Côte d'Ivoire\", numeric='384', official_name=\"Republic of Côte d'Ivoire\"),\n",
       " Country(alpha_2='CM', alpha_3='CMR', flag='🇨🇲', name='Cameroon', numeric='120', official_name='Republic of Cameroon'),\n",
       " Country(alpha_2='CD', alpha_3='COD', flag='🇨🇩', name='Congo, The Democratic Republic of the', numeric='180'),\n",
       " Country(alpha_2='CG', alpha_3='COG', flag='🇨🇬', name='Congo', numeric='178', official_name='Republic of the Congo'),\n",
       " Country(alpha_2='CK', alpha_3='COK', flag='🇨🇰', name='Cook Islands', numeric='184'),\n",
       " Country(alpha_2='CO', alpha_3='COL', flag='🇨🇴', name='Colombia', numeric='170', official_name='Republic of Colombia'),\n",
       " Country(alpha_2='KM', alpha_3='COM', flag='🇰🇲', name='Comoros', numeric='174', official_name='Union of the Comoros'),\n",
       " Country(alpha_2='CV', alpha_3='CPV', flag='🇨🇻', name='Cabo Verde', numeric='132', official_name='Republic of Cabo Verde'),\n",
       " Country(alpha_2='CR', alpha_3='CRI', flag='🇨🇷', name='Costa Rica', numeric='188', official_name='Republic of Costa Rica'),\n",
       " Country(alpha_2='CU', alpha_3='CUB', flag='🇨🇺', name='Cuba', numeric='192', official_name='Republic of Cuba'),\n",
       " Country(alpha_2='CW', alpha_3='CUW', flag='🇨🇼', name='Curaçao', numeric='531', official_name='Curaçao'),\n",
       " Country(alpha_2='CX', alpha_3='CXR', flag='🇨🇽', name='Christmas Island', numeric='162'),\n",
       " Country(alpha_2='KY', alpha_3='CYM', flag='🇰🇾', name='Cayman Islands', numeric='136'),\n",
       " Country(alpha_2='CY', alpha_3='CYP', flag='🇨🇾', name='Cyprus', numeric='196', official_name='Republic of Cyprus'),\n",
       " Country(alpha_2='CZ', alpha_3='CZE', flag='🇨🇿', name='Czechia', numeric='203', official_name='Czech Republic'),\n",
       " Country(alpha_2='DE', alpha_3='DEU', flag='🇩🇪', name='Germany', numeric='276', official_name='Federal Republic of Germany'),\n",
       " Country(alpha_2='DJ', alpha_3='DJI', flag='🇩🇯', name='Djibouti', numeric='262', official_name='Republic of Djibouti'),\n",
       " Country(alpha_2='DM', alpha_3='DMA', flag='🇩🇲', name='Dominica', numeric='212', official_name='Commonwealth of Dominica'),\n",
       " Country(alpha_2='DK', alpha_3='DNK', flag='🇩🇰', name='Denmark', numeric='208', official_name='Kingdom of Denmark'),\n",
       " Country(alpha_2='DO', alpha_3='DOM', flag='🇩🇴', name='Dominican Republic', numeric='214'),\n",
       " Country(alpha_2='DZ', alpha_3='DZA', flag='🇩🇿', name='Algeria', numeric='012', official_name=\"People's Democratic Republic of Algeria\"),\n",
       " Country(alpha_2='EC', alpha_3='ECU', flag='🇪🇨', name='Ecuador', numeric='218', official_name='Republic of Ecuador'),\n",
       " Country(alpha_2='EG', alpha_3='EGY', flag='🇪🇬', name='Egypt', numeric='818', official_name='Arab Republic of Egypt'),\n",
       " Country(alpha_2='ER', alpha_3='ERI', flag='🇪🇷', name='Eritrea', numeric='232', official_name='the State of Eritrea'),\n",
       " Country(alpha_2='EH', alpha_3='ESH', flag='🇪🇭', name='Western Sahara', numeric='732'),\n",
       " Country(alpha_2='ES', alpha_3='ESP', flag='🇪🇸', name='Spain', numeric='724', official_name='Kingdom of Spain'),\n",
       " Country(alpha_2='EE', alpha_3='EST', flag='🇪🇪', name='Estonia', numeric='233', official_name='Republic of Estonia'),\n",
       " Country(alpha_2='ET', alpha_3='ETH', flag='🇪🇹', name='Ethiopia', numeric='231', official_name='Federal Democratic Republic of Ethiopia'),\n",
       " Country(alpha_2='FI', alpha_3='FIN', flag='🇫🇮', name='Finland', numeric='246', official_name='Republic of Finland'),\n",
       " Country(alpha_2='FJ', alpha_3='FJI', flag='🇫🇯', name='Fiji', numeric='242', official_name='Republic of Fiji'),\n",
       " Country(alpha_2='FK', alpha_3='FLK', flag='🇫🇰', name='Falkland Islands (Malvinas)', numeric='238'),\n",
       " Country(alpha_2='FR', alpha_3='FRA', flag='🇫🇷', name='France', numeric='250', official_name='French Republic'),\n",
       " Country(alpha_2='FO', alpha_3='FRO', flag='🇫🇴', name='Faroe Islands', numeric='234'),\n",
       " Country(alpha_2='FM', alpha_3='FSM', flag='🇫🇲', name='Micronesia, Federated States of', numeric='583', official_name='Federated States of Micronesia'),\n",
       " Country(alpha_2='GA', alpha_3='GAB', flag='🇬🇦', name='Gabon', numeric='266', official_name='Gabonese Republic'),\n",
       " Country(alpha_2='GB', alpha_3='GBR', flag='🇬🇧', name='United Kingdom', numeric='826', official_name='United Kingdom of Great Britain and Northern Ireland'),\n",
       " Country(alpha_2='GE', alpha_3='GEO', flag='🇬🇪', name='Georgia', numeric='268'),\n",
       " Country(alpha_2='GG', alpha_3='GGY', flag='🇬🇬', name='Guernsey', numeric='831'),\n",
       " Country(alpha_2='GH', alpha_3='GHA', flag='🇬🇭', name='Ghana', numeric='288', official_name='Republic of Ghana'),\n",
       " Country(alpha_2='GI', alpha_3='GIB', flag='🇬🇮', name='Gibraltar', numeric='292'),\n",
       " Country(alpha_2='GN', alpha_3='GIN', flag='🇬🇳', name='Guinea', numeric='324', official_name='Republic of Guinea'),\n",
       " Country(alpha_2='GP', alpha_3='GLP', flag='🇬🇵', name='Guadeloupe', numeric='312'),\n",
       " Country(alpha_2='GM', alpha_3='GMB', flag='🇬🇲', name='Gambia', numeric='270', official_name='Republic of the Gambia'),\n",
       " Country(alpha_2='GW', alpha_3='GNB', flag='🇬🇼', name='Guinea-Bissau', numeric='624', official_name='Republic of Guinea-Bissau'),\n",
       " Country(alpha_2='GQ', alpha_3='GNQ', flag='🇬🇶', name='Equatorial Guinea', numeric='226', official_name='Republic of Equatorial Guinea'),\n",
       " Country(alpha_2='GR', alpha_3='GRC', flag='🇬🇷', name='Greece', numeric='300', official_name='Hellenic Republic'),\n",
       " Country(alpha_2='GD', alpha_3='GRD', flag='🇬🇩', name='Grenada', numeric='308'),\n",
       " Country(alpha_2='GL', alpha_3='GRL', flag='🇬🇱', name='Greenland', numeric='304'),\n",
       " Country(alpha_2='GT', alpha_3='GTM', flag='🇬🇹', name='Guatemala', numeric='320', official_name='Republic of Guatemala'),\n",
       " Country(alpha_2='GF', alpha_3='GUF', flag='🇬🇫', name='French Guiana', numeric='254'),\n",
       " Country(alpha_2='GU', alpha_3='GUM', flag='🇬🇺', name='Guam', numeric='316'),\n",
       " Country(alpha_2='GY', alpha_3='GUY', flag='🇬🇾', name='Guyana', numeric='328', official_name='Republic of Guyana'),\n",
       " Country(alpha_2='HK', alpha_3='HKG', flag='🇭🇰', name='Hong Kong', numeric='344', official_name='Hong Kong Special Administrative Region of China'),\n",
       " Country(alpha_2='HM', alpha_3='HMD', flag='🇭🇲', name='Heard Island and McDonald Islands', numeric='334'),\n",
       " Country(alpha_2='HN', alpha_3='HND', flag='🇭🇳', name='Honduras', numeric='340', official_name='Republic of Honduras'),\n",
       " Country(alpha_2='HR', alpha_3='HRV', flag='🇭🇷', name='Croatia', numeric='191', official_name='Republic of Croatia'),\n",
       " Country(alpha_2='HT', alpha_3='HTI', flag='🇭🇹', name='Haiti', numeric='332', official_name='Republic of Haiti'),\n",
       " Country(alpha_2='HU', alpha_3='HUN', flag='🇭🇺', name='Hungary', numeric='348', official_name='Hungary'),\n",
       " Country(alpha_2='ID', alpha_3='IDN', flag='🇮🇩', name='Indonesia', numeric='360', official_name='Republic of Indonesia'),\n",
       " Country(alpha_2='IM', alpha_3='IMN', flag='🇮🇲', name='Isle of Man', numeric='833'),\n",
       " Country(alpha_2='IN', alpha_3='IND', flag='🇮🇳', name='India', numeric='356', official_name='Republic of India'),\n",
       " Country(alpha_2='IO', alpha_3='IOT', flag='🇮🇴', name='British Indian Ocean Territory', numeric='086'),\n",
       " Country(alpha_2='IE', alpha_3='IRL', flag='🇮🇪', name='Ireland', numeric='372'),\n",
       " Country(alpha_2='IR', alpha_3='IRN', flag='🇮🇷', name='Iran, Islamic Republic of', numeric='364', official_name='Islamic Republic of Iran'),\n",
       " Country(alpha_2='IQ', alpha_3='IRQ', flag='🇮🇶', name='Iraq', numeric='368', official_name='Republic of Iraq'),\n",
       " Country(alpha_2='IS', alpha_3='ISL', flag='🇮🇸', name='Iceland', numeric='352', official_name='Republic of Iceland'),\n",
       " Country(alpha_2='IL', alpha_3='ISR', flag='🇮🇱', name='Israel', numeric='376', official_name='State of Israel'),\n",
       " Country(alpha_2='IT', alpha_3='ITA', flag='🇮🇹', name='Italy', numeric='380', official_name='Italian Republic'),\n",
       " Country(alpha_2='JM', alpha_3='JAM', flag='🇯🇲', name='Jamaica', numeric='388'),\n",
       " Country(alpha_2='JE', alpha_3='JEY', flag='🇯🇪', name='Jersey', numeric='832'),\n",
       " Country(alpha_2='JO', alpha_3='JOR', flag='🇯🇴', name='Jordan', numeric='400', official_name='Hashemite Kingdom of Jordan'),\n",
       " Country(alpha_2='JP', alpha_3='JPN', flag='🇯🇵', name='Japan', numeric='392'),\n",
       " Country(alpha_2='KZ', alpha_3='KAZ', flag='🇰🇿', name='Kazakhstan', numeric='398', official_name='Republic of Kazakhstan'),\n",
       " Country(alpha_2='KE', alpha_3='KEN', flag='🇰🇪', name='Kenya', numeric='404', official_name='Republic of Kenya'),\n",
       " Country(alpha_2='KG', alpha_3='KGZ', flag='🇰🇬', name='Kyrgyzstan', numeric='417', official_name='Kyrgyz Republic'),\n",
       " Country(alpha_2='KH', alpha_3='KHM', flag='🇰🇭', name='Cambodia', numeric='116', official_name='Kingdom of Cambodia'),\n",
       " Country(alpha_2='KI', alpha_3='KIR', flag='🇰🇮', name='Kiribati', numeric='296', official_name='Republic of Kiribati'),\n",
       " Country(alpha_2='KN', alpha_3='KNA', flag='🇰🇳', name='Saint Kitts and Nevis', numeric='659'),\n",
       " Country(alpha_2='KR', alpha_3='KOR', common_name='South Korea', flag='🇰🇷', name='Korea, Republic of', numeric='410'),\n",
       " Country(alpha_2='KW', alpha_3='KWT', flag='🇰🇼', name='Kuwait', numeric='414', official_name='State of Kuwait'),\n",
       " Country(alpha_2='LA', alpha_3='LAO', flag='🇱🇦', name=\"Lao People's Democratic Republic\", numeric='418'),\n",
       " Country(alpha_2='LB', alpha_3='LBN', flag='🇱🇧', name='Lebanon', numeric='422', official_name='Lebanese Republic'),\n",
       " Country(alpha_2='LR', alpha_3='LBR', flag='🇱🇷', name='Liberia', numeric='430', official_name='Republic of Liberia'),\n",
       " Country(alpha_2='LY', alpha_3='LBY', flag='🇱🇾', name='Libya', numeric='434', official_name='Libya'),\n",
       " Country(alpha_2='LC', alpha_3='LCA', flag='🇱🇨', name='Saint Lucia', numeric='662'),\n",
       " Country(alpha_2='LI', alpha_3='LIE', flag='🇱🇮', name='Liechtenstein', numeric='438', official_name='Principality of Liechtenstein'),\n",
       " Country(alpha_2='LK', alpha_3='LKA', flag='🇱🇰', name='Sri Lanka', numeric='144', official_name='Democratic Socialist Republic of Sri Lanka'),\n",
       " Country(alpha_2='LS', alpha_3='LSO', flag='🇱🇸', name='Lesotho', numeric='426', official_name='Kingdom of Lesotho'),\n",
       " Country(alpha_2='LT', alpha_3='LTU', flag='🇱🇹', name='Lithuania', numeric='440', official_name='Republic of Lithuania'),\n",
       " Country(alpha_2='LU', alpha_3='LUX', flag='🇱🇺', name='Luxembourg', numeric='442', official_name='Grand Duchy of Luxembourg'),\n",
       " Country(alpha_2='LV', alpha_3='LVA', flag='🇱🇻', name='Latvia', numeric='428', official_name='Republic of Latvia'),\n",
       " Country(alpha_2='MO', alpha_3='MAC', flag='🇲🇴', name='Macao', numeric='446', official_name='Macao Special Administrative Region of China'),\n",
       " Country(alpha_2='MF', alpha_3='MAF', flag='🇲🇫', name='Saint Martin (French part)', numeric='663'),\n",
       " Country(alpha_2='MA', alpha_3='MAR', flag='🇲🇦', name='Morocco', numeric='504', official_name='Kingdom of Morocco'),\n",
       " Country(alpha_2='MC', alpha_3='MCO', flag='🇲🇨', name='Monaco', numeric='492', official_name='Principality of Monaco'),\n",
       " Country(alpha_2='MD', alpha_3='MDA', common_name='Moldova', flag='🇲🇩', name='Moldova, Republic of', numeric='498', official_name='Republic of Moldova'),\n",
       " Country(alpha_2='MG', alpha_3='MDG', flag='🇲🇬', name='Madagascar', numeric='450', official_name='Republic of Madagascar'),\n",
       " Country(alpha_2='MV', alpha_3='MDV', flag='🇲🇻', name='Maldives', numeric='462', official_name='Republic of Maldives'),\n",
       " Country(alpha_2='MX', alpha_3='MEX', flag='🇲🇽', name='Mexico', numeric='484', official_name='United Mexican States'),\n",
       " Country(alpha_2='MH', alpha_3='MHL', flag='🇲🇭', name='Marshall Islands', numeric='584', official_name='Republic of the Marshall Islands'),\n",
       " Country(alpha_2='MK', alpha_3='MKD', flag='🇲🇰', name='North Macedonia', numeric='807', official_name='Republic of North Macedonia'),\n",
       " Country(alpha_2='ML', alpha_3='MLI', flag='🇲🇱', name='Mali', numeric='466', official_name='Republic of Mali'),\n",
       " Country(alpha_2='MT', alpha_3='MLT', flag='🇲🇹', name='Malta', numeric='470', official_name='Republic of Malta'),\n",
       " Country(alpha_2='MM', alpha_3='MMR', flag='🇲🇲', name='Myanmar', numeric='104', official_name='Republic of Myanmar'),\n",
       " Country(alpha_2='ME', alpha_3='MNE', flag='🇲🇪', name='Montenegro', numeric='499', official_name='Montenegro'),\n",
       " Country(alpha_2='MN', alpha_3='MNG', flag='🇲🇳', name='Mongolia', numeric='496'),\n",
       " Country(alpha_2='MP', alpha_3='MNP', flag='🇲🇵', name='Northern Mariana Islands', numeric='580', official_name='Commonwealth of the Northern Mariana Islands'),\n",
       " Country(alpha_2='MZ', alpha_3='MOZ', flag='🇲🇿', name='Mozambique', numeric='508', official_name='Republic of Mozambique'),\n",
       " Country(alpha_2='MR', alpha_3='MRT', flag='🇲🇷', name='Mauritania', numeric='478', official_name='Islamic Republic of Mauritania'),\n",
       " Country(alpha_2='MS', alpha_3='MSR', flag='🇲🇸', name='Montserrat', numeric='500'),\n",
       " Country(alpha_2='MQ', alpha_3='MTQ', flag='🇲🇶', name='Martinique', numeric='474'),\n",
       " Country(alpha_2='MU', alpha_3='MUS', flag='🇲🇺', name='Mauritius', numeric='480', official_name='Republic of Mauritius'),\n",
       " Country(alpha_2='MW', alpha_3='MWI', flag='🇲🇼', name='Malawi', numeric='454', official_name='Republic of Malawi'),\n",
       " Country(alpha_2='MY', alpha_3='MYS', flag='🇲🇾', name='Malaysia', numeric='458'),\n",
       " Country(alpha_2='YT', alpha_3='MYT', flag='🇾🇹', name='Mayotte', numeric='175'),\n",
       " Country(alpha_2='NA', alpha_3='NAM', flag='🇳🇦', name='Namibia', numeric='516', official_name='Republic of Namibia'),\n",
       " Country(alpha_2='NC', alpha_3='NCL', flag='🇳🇨', name='New Caledonia', numeric='540'),\n",
       " Country(alpha_2='NE', alpha_3='NER', flag='🇳🇪', name='Niger', numeric='562', official_name='Republic of the Niger'),\n",
       " Country(alpha_2='NF', alpha_3='NFK', flag='🇳🇫', name='Norfolk Island', numeric='574'),\n",
       " Country(alpha_2='NG', alpha_3='NGA', flag='🇳🇬', name='Nigeria', numeric='566', official_name='Federal Republic of Nigeria'),\n",
       " Country(alpha_2='NI', alpha_3='NIC', flag='🇳🇮', name='Nicaragua', numeric='558', official_name='Republic of Nicaragua'),\n",
       " Country(alpha_2='NU', alpha_3='NIU', flag='🇳🇺', name='Niue', numeric='570', official_name='Niue'),\n",
       " Country(alpha_2='NL', alpha_3='NLD', flag='🇳🇱', name='Netherlands', numeric='528', official_name='Kingdom of the Netherlands'),\n",
       " Country(alpha_2='NO', alpha_3='NOR', flag='🇳🇴', name='Norway', numeric='578', official_name='Kingdom of Norway'),\n",
       " Country(alpha_2='NP', alpha_3='NPL', flag='🇳🇵', name='Nepal', numeric='524', official_name='Federal Democratic Republic of Nepal'),\n",
       " Country(alpha_2='NR', alpha_3='NRU', flag='🇳🇷', name='Nauru', numeric='520', official_name='Republic of Nauru'),\n",
       " Country(alpha_2='NZ', alpha_3='NZL', flag='🇳🇿', name='New Zealand', numeric='554'),\n",
       " Country(alpha_2='OM', alpha_3='OMN', flag='🇴🇲', name='Oman', numeric='512', official_name='Sultanate of Oman'),\n",
       " Country(alpha_2='PK', alpha_3='PAK', flag='🇵🇰', name='Pakistan', numeric='586', official_name='Islamic Republic of Pakistan'),\n",
       " Country(alpha_2='PA', alpha_3='PAN', flag='🇵🇦', name='Panama', numeric='591', official_name='Republic of Panama'),\n",
       " Country(alpha_2='PN', alpha_3='PCN', flag='🇵🇳', name='Pitcairn', numeric='612'),\n",
       " Country(alpha_2='PE', alpha_3='PER', flag='🇵🇪', name='Peru', numeric='604', official_name='Republic of Peru'),\n",
       " Country(alpha_2='PH', alpha_3='PHL', flag='🇵🇭', name='Philippines', numeric='608', official_name='Republic of the Philippines'),\n",
       " Country(alpha_2='PW', alpha_3='PLW', flag='🇵🇼', name='Palau', numeric='585', official_name='Republic of Palau'),\n",
       " Country(alpha_2='PG', alpha_3='PNG', flag='🇵🇬', name='Papua New Guinea', numeric='598', official_name='Independent State of Papua New Guinea'),\n",
       " Country(alpha_2='PL', alpha_3='POL', flag='🇵🇱', name='Poland', numeric='616', official_name='Republic of Poland'),\n",
       " Country(alpha_2='PR', alpha_3='PRI', flag='🇵🇷', name='Puerto Rico', numeric='630'),\n",
       " Country(alpha_2='KP', alpha_3='PRK', common_name='North Korea', flag='🇰🇵', name=\"Korea, Democratic People's Republic of\", numeric='408', official_name=\"Democratic People's Republic of Korea\"),\n",
       " Country(alpha_2='PT', alpha_3='PRT', flag='🇵🇹', name='Portugal', numeric='620', official_name='Portuguese Republic'),\n",
       " Country(alpha_2='PY', alpha_3='PRY', flag='🇵🇾', name='Paraguay', numeric='600', official_name='Republic of Paraguay'),\n",
       " Country(alpha_2='PS', alpha_3='PSE', flag='🇵🇸', name='Palestine, State of', numeric='275', official_name='the State of Palestine'),\n",
       " Country(alpha_2='PF', alpha_3='PYF', flag='🇵🇫', name='French Polynesia', numeric='258'),\n",
       " Country(alpha_2='QA', alpha_3='QAT', flag='🇶🇦', name='Qatar', numeric='634', official_name='State of Qatar'),\n",
       " Country(alpha_2='RE', alpha_3='REU', flag='🇷🇪', name='Réunion', numeric='638'),\n",
       " Country(alpha_2='RO', alpha_3='ROU', flag='🇷🇴', name='Romania', numeric='642'),\n",
       " Country(alpha_2='RU', alpha_3='RUS', flag='🇷🇺', name='Russian Federation', numeric='643'),\n",
       " Country(alpha_2='RW', alpha_3='RWA', flag='🇷🇼', name='Rwanda', numeric='646', official_name='Rwandese Republic'),\n",
       " Country(alpha_2='SA', alpha_3='SAU', flag='🇸🇦', name='Saudi Arabia', numeric='682', official_name='Kingdom of Saudi Arabia'),\n",
       " Country(alpha_2='SD', alpha_3='SDN', flag='🇸🇩', name='Sudan', numeric='729', official_name='Republic of the Sudan'),\n",
       " Country(alpha_2='SN', alpha_3='SEN', flag='🇸🇳', name='Senegal', numeric='686', official_name='Republic of Senegal'),\n",
       " Country(alpha_2='SG', alpha_3='SGP', flag='🇸🇬', name='Singapore', numeric='702', official_name='Republic of Singapore'),\n",
       " Country(alpha_2='GS', alpha_3='SGS', flag='🇬🇸', name='South Georgia and the South Sandwich Islands', numeric='239'),\n",
       " Country(alpha_2='SH', alpha_3='SHN', flag='🇸🇭', name='Saint Helena, Ascension and Tristan da Cunha', numeric='654'),\n",
       " Country(alpha_2='SJ', alpha_3='SJM', flag='🇸🇯', name='Svalbard and Jan Mayen', numeric='744'),\n",
       " Country(alpha_2='SB', alpha_3='SLB', flag='🇸🇧', name='Solomon Islands', numeric='090'),\n",
       " Country(alpha_2='SL', alpha_3='SLE', flag='🇸🇱', name='Sierra Leone', numeric='694', official_name='Republic of Sierra Leone'),\n",
       " Country(alpha_2='SV', alpha_3='SLV', flag='🇸🇻', name='El Salvador', numeric='222', official_name='Republic of El Salvador'),\n",
       " Country(alpha_2='SM', alpha_3='SMR', flag='🇸🇲', name='San Marino', numeric='674', official_name='Republic of San Marino'),\n",
       " Country(alpha_2='SO', alpha_3='SOM', flag='🇸🇴', name='Somalia', numeric='706', official_name='Federal Republic of Somalia'),\n",
       " Country(alpha_2='PM', alpha_3='SPM', flag='🇵🇲', name='Saint Pierre and Miquelon', numeric='666'),\n",
       " Country(alpha_2='RS', alpha_3='SRB', flag='🇷🇸', name='Serbia', numeric='688', official_name='Republic of Serbia'),\n",
       " Country(alpha_2='SS', alpha_3='SSD', flag='🇸🇸', name='South Sudan', numeric='728', official_name='Republic of South Sudan'),\n",
       " Country(alpha_2='ST', alpha_3='STP', flag='🇸🇹', name='Sao Tome and Principe', numeric='678', official_name='Democratic Republic of Sao Tome and Principe'),\n",
       " Country(alpha_2='SR', alpha_3='SUR', flag='🇸🇷', name='Suriname', numeric='740', official_name='Republic of Suriname'),\n",
       " Country(alpha_2='SK', alpha_3='SVK', flag='🇸🇰', name='Slovakia', numeric='703', official_name='Slovak Republic'),\n",
       " Country(alpha_2='SI', alpha_3='SVN', flag='🇸🇮', name='Slovenia', numeric='705', official_name='Republic of Slovenia'),\n",
       " Country(alpha_2='SE', alpha_3='SWE', flag='🇸🇪', name='Sweden', numeric='752', official_name='Kingdom of Sweden'),\n",
       " Country(alpha_2='SZ', alpha_3='SWZ', flag='🇸🇿', name='Eswatini', numeric='748', official_name='Kingdom of Eswatini'),\n",
       " Country(alpha_2='SX', alpha_3='SXM', flag='🇸🇽', name='Sint Maarten (Dutch part)', numeric='534', official_name='Sint Maarten (Dutch part)'),\n",
       " Country(alpha_2='SC', alpha_3='SYC', flag='🇸🇨', name='Seychelles', numeric='690', official_name='Republic of Seychelles'),\n",
       " Country(alpha_2='SY', alpha_3='SYR', flag='🇸🇾', name='Syrian Arab Republic', numeric='760'),\n",
       " Country(alpha_2='TC', alpha_3='TCA', flag='🇹🇨', name='Turks and Caicos Islands', numeric='796'),\n",
       " Country(alpha_2='TD', alpha_3='TCD', flag='🇹🇩', name='Chad', numeric='148', official_name='Republic of Chad'),\n",
       " Country(alpha_2='TG', alpha_3='TGO', flag='🇹🇬', name='Togo', numeric='768', official_name='Togolese Republic'),\n",
       " Country(alpha_2='TH', alpha_3='THA', flag='🇹🇭', name='Thailand', numeric='764', official_name='Kingdom of Thailand'),\n",
       " Country(alpha_2='TJ', alpha_3='TJK', flag='🇹🇯', name='Tajikistan', numeric='762', official_name='Republic of Tajikistan'),\n",
       " Country(alpha_2='TK', alpha_3='TKL', flag='🇹🇰', name='Tokelau', numeric='772'),\n",
       " Country(alpha_2='TM', alpha_3='TKM', flag='🇹🇲', name='Turkmenistan', numeric='795'),\n",
       " Country(alpha_2='TL', alpha_3='TLS', flag='🇹🇱', name='Timor-Leste', numeric='626', official_name='Democratic Republic of Timor-Leste'),\n",
       " Country(alpha_2='TO', alpha_3='TON', flag='🇹🇴', name='Tonga', numeric='776', official_name='Kingdom of Tonga'),\n",
       " Country(alpha_2='TT', alpha_3='TTO', flag='🇹🇹', name='Trinidad and Tobago', numeric='780', official_name='Republic of Trinidad and Tobago'),\n",
       " Country(alpha_2='TN', alpha_3='TUN', flag='🇹🇳', name='Tunisia', numeric='788', official_name='Republic of Tunisia'),\n",
       " Country(alpha_2='TR', alpha_3='TUR', flag='🇹🇷', name='Turkey', numeric='792', official_name='Republic of Turkey'),\n",
       " Country(alpha_2='TV', alpha_3='TUV', flag='🇹🇻', name='Tuvalu', numeric='798'),\n",
       " Country(alpha_2='TW', alpha_3='TWN', common_name='Taiwan', flag='🇹🇼', name='Taiwan, Province of China', numeric='158', official_name='Taiwan, Province of China'),\n",
       " Country(alpha_2='TZ', alpha_3='TZA', common_name='Tanzania', flag='🇹🇿', name='Tanzania, United Republic of', numeric='834', official_name='United Republic of Tanzania'),\n",
       " Country(alpha_2='UG', alpha_3='UGA', flag='🇺🇬', name='Uganda', numeric='800', official_name='Republic of Uganda'),\n",
       " Country(alpha_2='UA', alpha_3='UKR', flag='🇺🇦', name='Ukraine', numeric='804'),\n",
       " Country(alpha_2='UM', alpha_3='UMI', flag='🇺🇲', name='United States Minor Outlying Islands', numeric='581'),\n",
       " Country(alpha_2='UY', alpha_3='URY', flag='🇺🇾', name='Uruguay', numeric='858', official_name='Eastern Republic of Uruguay'),\n",
       " Country(alpha_2='US', alpha_3='USA', flag='🇺🇸', name='United States', numeric='840', official_name='United States of America'),\n",
       " Country(alpha_2='UZ', alpha_3='UZB', flag='🇺🇿', name='Uzbekistan', numeric='860', official_name='Republic of Uzbekistan'),\n",
       " Country(alpha_2='VA', alpha_3='VAT', flag='🇻🇦', name='Holy See (Vatican City State)', numeric='336'),\n",
       " Country(alpha_2='VC', alpha_3='VCT', flag='🇻🇨', name='Saint Vincent and the Grenadines', numeric='670'),\n",
       " Country(alpha_2='VE', alpha_3='VEN', common_name='Venezuela', flag='🇻🇪', name='Venezuela, Bolivarian Republic of', numeric='862', official_name='Bolivarian Republic of Venezuela'),\n",
       " Country(alpha_2='VG', alpha_3='VGB', flag='🇻🇬', name='Virgin Islands, British', numeric='092', official_name='British Virgin Islands'),\n",
       " Country(alpha_2='VI', alpha_3='VIR', flag='🇻🇮', name='Virgin Islands, U.S.', numeric='850', official_name='Virgin Islands of the United States'),\n",
       " Country(alpha_2='VN', alpha_3='VNM', common_name='Vietnam', flag='🇻🇳', name='Viet Nam', numeric='704', official_name='Socialist Republic of Viet Nam'),\n",
       " Country(alpha_2='VU', alpha_3='VUT', flag='🇻🇺', name='Vanuatu', numeric='548', official_name='Republic of Vanuatu'),\n",
       " Country(alpha_2='WF', alpha_3='WLF', flag='🇼🇫', name='Wallis and Futuna', numeric='876'),\n",
       " Country(alpha_2='WS', alpha_3='WSM', flag='🇼🇸', name='Samoa', numeric='882', official_name='Independent State of Samoa'),\n",
       " Country(alpha_2='YE', alpha_3='YEM', flag='🇾🇪', name='Yemen', numeric='887', official_name='Republic of Yemen'),\n",
       " Country(alpha_2='ZA', alpha_3='ZAF', flag='🇿🇦', name='South Africa', numeric='710', official_name='Republic of South Africa'),\n",
       " Country(alpha_2='ZM', alpha_3='ZMB', flag='🇿🇲', name='Zambia', numeric='894', official_name='Republic of Zambia'),\n",
       " Country(alpha_2='ZW', alpha_3='ZWE', flag='🇿🇼', name='Zimbabwe', numeric='716', official_name='Republic of Zimbabwe')]"
      ]
     },
     "execution_count": 249,
     "metadata": {},
     "output_type": "execute_result"
    }
   ],
   "source": [
    "list(pycountry.countries)"
   ]
  },
  {
   "cell_type": "markdown",
   "id": "087a9d84",
   "metadata": {},
   "source": [
    "I will manually replace country names with names in the pycountry list."
   ]
  },
  {
   "cell_type": "code",
   "execution_count": 354,
   "id": "2f6eafbb",
   "metadata": {},
   "outputs": [
    {
     "name": "stderr",
     "output_type": "stream",
     "text": [
      "/Users/azize/opt/anaconda3/lib/python3.8/site-packages/pandas/core/frame.py:4524: SettingWithCopyWarning: \n",
      "A value is trying to be set on a copy of a slice from a DataFrame\n",
      "\n",
      "See the caveats in the documentation: https://pandas.pydata.org/pandas-docs/stable/user_guide/indexing.html#returning-a-view-versus-a-copy\n",
      "  return super().replace(\n"
     ]
    }
   ],
   "source": [
    "all_meetings.replace(['BOLIVIA', 'BRUNEI', 'CAPE VERDE', 'DEMOCRATIC REPUBLIC OF CONGO', 'FAROE ISLAND', 'GUINEA BISSAU', 'IRAN', 'IVORY COAST', 'LAOS', 'LETONIA', 'MOLDOVA', 'PALESTINE', 'REPUBLIC OF CONGO', 'RUSSIA', 'SOUTH KOREA', 'ST VINCENT AND THE GRENADINES', 'SYRIA', 'TANZANIA', 'UAE', 'UK', 'USA', 'VATICAN', 'VENEZUELA', 'VIETNAM'],\n",
    "           ['Bolivia, Plurinational State of', 'Brunei Darussalam', 'Cabo Verde', 'Congo, The Democratic Republic of the', 'Faroe Islands', 'Guinea-Bissau', 'Iran, Islamic Republic of', \"Côte d'Ivoire\", \"Lao People's Democratic Republic\", 'Latvia', 'Moldova, Republic of', 'Palestine, State of', 'Congo', 'Russian Federation', 'Korea, Republic of', 'Saint Vincent and the Grenadines', 'Syrian Arab Republic', 'Tanzania, United Republic of', 'United Arab Emirates', 'United Kingdom', 'United States', 'Holy See (Vatican City State)', 'Venezuela, Bolivarian Republic of', 'Viet Nam'], inplace = True)"
   ]
  },
  {
   "cell_type": "code",
   "execution_count": 357,
   "id": "77163f7f",
   "metadata": {},
   "outputs": [
    {
     "name": "stderr",
     "output_type": "stream",
     "text": [
      "<ipython-input-357-2d108b7eec58>:1: SettingWithCopyWarning: \n",
      "A value is trying to be set on a copy of a slice from a DataFrame.\n",
      "Try using .loc[row_indexer,col_indexer] = value instead\n",
      "\n",
      "See the caveats in the documentation: https://pandas.pydata.org/pandas-docs/stable/user_guide/indexing.html#returning-a-view-versus-a-copy\n",
      "  all_meetings['CODE']=alpha3code(all_meetings.COUNTRY)\n"
     ]
    }
   ],
   "source": [
    "all_meetings['CODE']=alpha3code(all_meetings.COUNTRY)"
   ]
  },
  {
   "cell_type": "markdown",
   "id": "ce543068",
   "metadata": {},
   "source": [
    "KKTC and Kosovo are not included in the pycountry list. I will add them manually."
   ]
  },
  {
   "cell_type": "code",
   "execution_count": 358,
   "id": "cd54c956",
   "metadata": {},
   "outputs": [
    {
     "data": {
      "text/plain": [
       "array(['KKTC', 'KOSOVO'], dtype=object)"
      ]
     },
     "execution_count": 358,
     "metadata": {},
     "output_type": "execute_result"
    }
   ],
   "source": [
    "all_meetings[all_meetings['CODE'] == 'None'].COUNTRY.unique()"
   ]
  },
  {
   "cell_type": "code",
   "execution_count": 359,
   "id": "b7eab1b8",
   "metadata": {},
   "outputs": [
    {
     "name": "stderr",
     "output_type": "stream",
     "text": [
      "/Users/azize/opt/anaconda3/lib/python3.8/site-packages/pandas/core/indexing.py:1720: SettingWithCopyWarning: \n",
      "A value is trying to be set on a copy of a slice from a DataFrame.\n",
      "Try using .loc[row_indexer,col_indexer] = value instead\n",
      "\n",
      "See the caveats in the documentation: https://pandas.pydata.org/pandas-docs/stable/user_guide/indexing.html#returning-a-view-versus-a-copy\n",
      "  self._setitem_single_column(loc, value, pi)\n"
     ]
    }
   ],
   "source": [
    "all_meetings.loc[all_meetings['COUNTRY'] == 'KOSOVO', 'CODE'] = 'XKX'"
   ]
  },
  {
   "cell_type": "code",
   "execution_count": 360,
   "id": "5d4aa3f1",
   "metadata": {},
   "outputs": [
    {
     "data": {
      "text/html": [
       "<div>\n",
       "<style scoped>\n",
       "    .dataframe tbody tr th:only-of-type {\n",
       "        vertical-align: middle;\n",
       "    }\n",
       "\n",
       "    .dataframe tbody tr th {\n",
       "        vertical-align: top;\n",
       "    }\n",
       "\n",
       "    .dataframe thead th {\n",
       "        text-align: right;\n",
       "    }\n",
       "</style>\n",
       "<table border=\"1\" class=\"dataframe\">\n",
       "  <thead>\n",
       "    <tr style=\"text-align: right;\">\n",
       "      <th></th>\n",
       "      <th>Count</th>\n",
       "      <th>COUNTRY</th>\n",
       "      <th>CODE</th>\n",
       "    </tr>\n",
       "  </thead>\n",
       "  <tbody>\n",
       "    <tr>\n",
       "      <th>5</th>\n",
       "      <td>121</td>\n",
       "      <td>KKTC</td>\n",
       "      <td>None</td>\n",
       "    </tr>\n",
       "  </tbody>\n",
       "</table>\n",
       "</div>"
      ],
      "text/plain": [
       "   Count COUNTRY  CODE\n",
       "5    121    KKTC  None"
      ]
     },
     "execution_count": 360,
     "metadata": {},
     "output_type": "execute_result"
    }
   ],
   "source": [
    "all_meetings[all_meetings['COUNTRY'] == 'KKTC']"
   ]
  },
  {
   "cell_type": "code",
   "execution_count": 361,
   "id": "7de8edb0",
   "metadata": {},
   "outputs": [
    {
     "name": "stderr",
     "output_type": "stream",
     "text": [
      "/Users/azize/opt/anaconda3/lib/python3.8/site-packages/pandas/core/indexing.py:1720: SettingWithCopyWarning: \n",
      "A value is trying to be set on a copy of a slice from a DataFrame.\n",
      "Try using .loc[row_indexer,col_indexer] = value instead\n",
      "\n",
      "See the caveats in the documentation: https://pandas.pydata.org/pandas-docs/stable/user_guide/indexing.html#returning-a-view-versus-a-copy\n",
      "  self._setitem_single_column(loc, value, pi)\n"
     ]
    }
   ],
   "source": [
    "all_meetings.loc[all_meetings['COUNTRY'] == 'KKTC', 'CODE'] = 'KKTC' "
   ]
  },
  {
   "cell_type": "markdown",
   "id": "28593dee",
   "metadata": {},
   "source": [
    "Since KKTC is not officially recognized other than Turkey, it has not a separate iso code. So, I just assigned its abbreviation as a code to see whole world map."
   ]
  },
  {
   "cell_type": "code",
   "execution_count": 362,
   "id": "d4fd7ba8",
   "metadata": {},
   "outputs": [
    {
     "data": {
      "text/plain": [
       "array([], dtype=object)"
      ]
     },
     "execution_count": 362,
     "metadata": {},
     "output_type": "execute_result"
    }
   ],
   "source": [
    "all_meetings[all_meetings['CODE'] == 'None'].COUNTRY.unique() #Now, all countries have their country codes."
   ]
  },
  {
   "cell_type": "markdown",
   "id": "cac978fb",
   "metadata": {},
   "source": [
    "### Importing Geopandas World Map"
   ]
  },
  {
   "cell_type": "code",
   "execution_count": 258,
   "id": "90b4b4f3",
   "metadata": {},
   "outputs": [],
   "source": [
    "import geopandas"
   ]
  },
  {
   "cell_type": "code",
   "execution_count": 259,
   "id": "c4d366ae",
   "metadata": {},
   "outputs": [],
   "source": [
    "world = geopandas.read_file(geopandas.datasets.get_path('naturalearth_lowres'))"
   ]
  },
  {
   "cell_type": "code",
   "execution_count": 128,
   "id": "71e40170",
   "metadata": {},
   "outputs": [
    {
     "data": {
      "text/html": [
       "<div>\n",
       "<style scoped>\n",
       "    .dataframe tbody tr th:only-of-type {\n",
       "        vertical-align: middle;\n",
       "    }\n",
       "\n",
       "    .dataframe tbody tr th {\n",
       "        vertical-align: top;\n",
       "    }\n",
       "\n",
       "    .dataframe thead th {\n",
       "        text-align: right;\n",
       "    }\n",
       "</style>\n",
       "<table border=\"1\" class=\"dataframe\">\n",
       "  <thead>\n",
       "    <tr style=\"text-align: right;\">\n",
       "      <th></th>\n",
       "      <th>pop_est</th>\n",
       "      <th>continent</th>\n",
       "      <th>name</th>\n",
       "      <th>iso_a3</th>\n",
       "      <th>gdp_md_est</th>\n",
       "      <th>geometry</th>\n",
       "    </tr>\n",
       "  </thead>\n",
       "  <tbody>\n",
       "    <tr>\n",
       "      <th>0</th>\n",
       "      <td>920938</td>\n",
       "      <td>Oceania</td>\n",
       "      <td>Fiji</td>\n",
       "      <td>FJI</td>\n",
       "      <td>8374.0</td>\n",
       "      <td>MULTIPOLYGON (((180.00000 -16.06713, 180.00000...</td>\n",
       "    </tr>\n",
       "    <tr>\n",
       "      <th>1</th>\n",
       "      <td>53950935</td>\n",
       "      <td>Africa</td>\n",
       "      <td>Tanzania</td>\n",
       "      <td>TZA</td>\n",
       "      <td>150600.0</td>\n",
       "      <td>POLYGON ((33.90371 -0.95000, 34.07262 -1.05982...</td>\n",
       "    </tr>\n",
       "    <tr>\n",
       "      <th>2</th>\n",
       "      <td>603253</td>\n",
       "      <td>Africa</td>\n",
       "      <td>W. Sahara</td>\n",
       "      <td>ESH</td>\n",
       "      <td>906.5</td>\n",
       "      <td>POLYGON ((-8.66559 27.65643, -8.66512 27.58948...</td>\n",
       "    </tr>\n",
       "  </tbody>\n",
       "</table>\n",
       "</div>"
      ],
      "text/plain": [
       "    pop_est continent       name iso_a3  gdp_md_est  \\\n",
       "0    920938   Oceania       Fiji    FJI      8374.0   \n",
       "1  53950935    Africa   Tanzania    TZA    150600.0   \n",
       "2    603253    Africa  W. Sahara    ESH       906.5   \n",
       "\n",
       "                                            geometry  \n",
       "0  MULTIPOLYGON (((180.00000 -16.06713, 180.00000...  \n",
       "1  POLYGON ((33.90371 -0.95000, 34.07262 -1.05982...  \n",
       "2  POLYGON ((-8.66559 27.65643, -8.66512 27.58948...  "
      ]
     },
     "execution_count": 128,
     "metadata": {},
     "output_type": "execute_result"
    }
   ],
   "source": [
    "world.head(3)"
   ]
  },
  {
   "cell_type": "code",
   "execution_count": 260,
   "id": "9411b489",
   "metadata": {},
   "outputs": [],
   "source": [
    "world.columns=['pop_est', 'continent', 'name', 'CODE', 'gdp_md_est', 'geometry']"
   ]
  },
  {
   "cell_type": "code",
   "execution_count": 215,
   "id": "47c62f42",
   "metadata": {},
   "outputs": [
    {
     "data": {
      "text/plain": [
       "array(['FJI', 'TZA', 'ESH', 'CAN', 'USA', 'KAZ', 'UZB', 'PNG', 'IDN',\n",
       "       'ARG', 'CHL', 'COD', 'SOM', 'KEN', 'SDN', 'TCD', 'HTI', 'DOM',\n",
       "       'RUS', 'BHS', 'FLK', '-99', 'GRL', 'ATF', 'TLS', 'ZAF', 'LSO',\n",
       "       'MEX', 'URY', 'BRA', 'BOL', 'PER', 'COL', 'PAN', 'CRI', 'NIC',\n",
       "       'HND', 'SLV', 'GTM', 'BLZ', 'VEN', 'GUY', 'SUR', 'ECU', 'PRI',\n",
       "       'JAM', 'CUB', 'ZWE', 'BWA', 'NAM', 'SEN', 'MLI', 'MRT', 'BEN',\n",
       "       'NER', 'NGA', 'CMR', 'TGO', 'GHA', 'CIV', 'GIN', 'GNB', 'LBR',\n",
       "       'SLE', 'BFA', 'CAF', 'COG', 'GAB', 'GNQ', 'ZMB', 'MWI', 'MOZ',\n",
       "       'SWZ', 'AGO', 'BDI', 'ISR', 'LBN', 'MDG', 'PSE', 'GMB', 'TUN',\n",
       "       'DZA', 'JOR', 'ARE', 'QAT', 'KWT', 'IRQ', 'OMN', 'VUT', 'KHM',\n",
       "       'THA', 'LAO', 'MMR', 'VNM', 'PRK', 'KOR', 'MNG', 'IND', 'BGD',\n",
       "       'BTN', 'NPL', 'PAK', 'AFG', 'TJK', 'KGZ', 'TKM', 'IRN', 'SYR',\n",
       "       'ARM', 'SWE', 'BLR', 'UKR', 'POL', 'AUT', 'HUN', 'MDA', 'ROU',\n",
       "       'LTU', 'LVA', 'EST', 'DEU', 'BGR', 'GRC', 'TUR', 'ALB', 'HRV',\n",
       "       'CHE', 'LUX', 'BEL', 'NLD', 'PRT', 'ESP', 'IRL', 'NCL', 'SLB',\n",
       "       'NZL', 'AUS', 'LKA', 'CHN', 'TWN', 'ITA', 'DNK', 'GBR', 'ISL',\n",
       "       'AZE', 'GEO', 'PHL', 'MYS', 'BRN', 'SVN', 'FIN', 'SVK', 'CZE',\n",
       "       'ERI', 'JPN', 'PRY', 'YEM', 'SAU', 'ATA', 'CYP', 'MAR', 'EGY',\n",
       "       'LBY', 'ETH', 'DJI', 'UGA', 'RWA', 'BIH', 'MKD', 'SRB', 'MNE',\n",
       "       'TTO', 'SSD'], dtype=object)"
      ]
     },
     "execution_count": 215,
     "metadata": {},
     "output_type": "execute_result"
    }
   ],
   "source": [
    "world.CODE.unique()"
   ]
  },
  {
   "cell_type": "code",
   "execution_count": 218,
   "id": "1a30ce21",
   "metadata": {},
   "outputs": [
    {
     "data": {
      "text/html": [
       "<div>\n",
       "<style scoped>\n",
       "    .dataframe tbody tr th:only-of-type {\n",
       "        vertical-align: middle;\n",
       "    }\n",
       "\n",
       "    .dataframe tbody tr th {\n",
       "        vertical-align: top;\n",
       "    }\n",
       "\n",
       "    .dataframe thead th {\n",
       "        text-align: right;\n",
       "    }\n",
       "</style>\n",
       "<table border=\"1\" class=\"dataframe\">\n",
       "  <thead>\n",
       "    <tr style=\"text-align: right;\">\n",
       "      <th></th>\n",
       "      <th>pop_est</th>\n",
       "      <th>continent</th>\n",
       "      <th>name</th>\n",
       "      <th>CODE</th>\n",
       "      <th>gdp_md_est</th>\n",
       "      <th>geometry</th>\n",
       "    </tr>\n",
       "  </thead>\n",
       "  <tbody>\n",
       "    <tr>\n",
       "      <th>21</th>\n",
       "      <td>5320045</td>\n",
       "      <td>Europe</td>\n",
       "      <td>Norway</td>\n",
       "      <td>-99</td>\n",
       "      <td>364700.0</td>\n",
       "      <td>MULTIPOLYGON (((15.14282 79.67431, 15.52255 80...</td>\n",
       "    </tr>\n",
       "    <tr>\n",
       "      <th>43</th>\n",
       "      <td>67106161</td>\n",
       "      <td>Europe</td>\n",
       "      <td>France</td>\n",
       "      <td>-99</td>\n",
       "      <td>2699000.0</td>\n",
       "      <td>MULTIPOLYGON (((-51.65780 4.15623, -52.24934 3...</td>\n",
       "    </tr>\n",
       "    <tr>\n",
       "      <th>160</th>\n",
       "      <td>265100</td>\n",
       "      <td>Asia</td>\n",
       "      <td>N. Cyprus</td>\n",
       "      <td>-99</td>\n",
       "      <td>3600.0</td>\n",
       "      <td>POLYGON ((32.73178 35.14003, 32.80247 35.14550...</td>\n",
       "    </tr>\n",
       "    <tr>\n",
       "      <th>167</th>\n",
       "      <td>3500000</td>\n",
       "      <td>Africa</td>\n",
       "      <td>Somaliland</td>\n",
       "      <td>-99</td>\n",
       "      <td>12250.0</td>\n",
       "      <td>POLYGON ((48.94820 11.41062, 48.94820 11.41062...</td>\n",
       "    </tr>\n",
       "    <tr>\n",
       "      <th>174</th>\n",
       "      <td>1895250</td>\n",
       "      <td>Europe</td>\n",
       "      <td>Kosovo</td>\n",
       "      <td>-99</td>\n",
       "      <td>18490.0</td>\n",
       "      <td>POLYGON ((20.59025 41.85541, 20.52295 42.21787...</td>\n",
       "    </tr>\n",
       "  </tbody>\n",
       "</table>\n",
       "</div>"
      ],
      "text/plain": [
       "      pop_est continent        name CODE  gdp_md_est  \\\n",
       "21    5320045    Europe      Norway  -99    364700.0   \n",
       "43   67106161    Europe      France  -99   2699000.0   \n",
       "160    265100      Asia   N. Cyprus  -99      3600.0   \n",
       "167   3500000    Africa  Somaliland  -99     12250.0   \n",
       "174   1895250    Europe      Kosovo  -99     18490.0   \n",
       "\n",
       "                                              geometry  \n",
       "21   MULTIPOLYGON (((15.14282 79.67431, 15.52255 80...  \n",
       "43   MULTIPOLYGON (((-51.65780 4.15623, -52.24934 3...  \n",
       "160  POLYGON ((32.73178 35.14003, 32.80247 35.14550...  \n",
       "167  POLYGON ((48.94820 11.41062, 48.94820 11.41062...  \n",
       "174  POLYGON ((20.59025 41.85541, 20.52295 42.21787...  "
      ]
     },
     "execution_count": 218,
     "metadata": {},
     "output_type": "execute_result"
    }
   ],
   "source": [
    "world[world.CODE== '-99'] #Some country codes are written as -99. I will change them manually."
   ]
  },
  {
   "cell_type": "code",
   "execution_count": 302,
   "id": "efdecb1c",
   "metadata": {},
   "outputs": [],
   "source": [
    "world.loc[world['name'] == 'France', 'CODE'] = 'FRA'"
   ]
  },
  {
   "cell_type": "code",
   "execution_count": 301,
   "id": "a2e6394e",
   "metadata": {},
   "outputs": [],
   "source": [
    "world.loc[world['name'] == 'Norway', 'CODE'] = 'NOR'"
   ]
  },
  {
   "cell_type": "code",
   "execution_count": 300,
   "id": "1c077e5b",
   "metadata": {},
   "outputs": [],
   "source": [
    "world.loc[world['name'] == 'Kosovo', 'CODE'] = 'XKX'"
   ]
  },
  {
   "cell_type": "code",
   "execution_count": 366,
   "id": "365f14a4",
   "metadata": {},
   "outputs": [],
   "source": [
    "world.loc[world['name'] == 'N. Cyprus', 'CODE'] = 'KKTC'"
   ]
  },
  {
   "cell_type": "code",
   "execution_count": 367,
   "id": "74d55a9f",
   "metadata": {},
   "outputs": [],
   "source": [
    "world.loc[world['name'] == 'Somaliland', 'CODE'] = 'SOM2'"
   ]
  },
  {
   "cell_type": "code",
   "execution_count": 368,
   "id": "b43c5d35",
   "metadata": {},
   "outputs": [
    {
     "data": {
      "text/html": [
       "<div>\n",
       "<style scoped>\n",
       "    .dataframe tbody tr th:only-of-type {\n",
       "        vertical-align: middle;\n",
       "    }\n",
       "\n",
       "    .dataframe tbody tr th {\n",
       "        vertical-align: top;\n",
       "    }\n",
       "\n",
       "    .dataframe thead th {\n",
       "        text-align: right;\n",
       "    }\n",
       "</style>\n",
       "<table border=\"1\" class=\"dataframe\">\n",
       "  <thead>\n",
       "    <tr style=\"text-align: right;\">\n",
       "      <th></th>\n",
       "      <th>pop_est</th>\n",
       "      <th>continent</th>\n",
       "      <th>name</th>\n",
       "      <th>CODE</th>\n",
       "      <th>gdp_md_est</th>\n",
       "      <th>geometry</th>\n",
       "    </tr>\n",
       "  </thead>\n",
       "  <tbody>\n",
       "  </tbody>\n",
       "</table>\n",
       "</div>"
      ],
      "text/plain": [
       "Empty GeoDataFrame\n",
       "Columns: [pop_est, continent, name, CODE, gdp_md_est, geometry]\n",
       "Index: []"
      ]
     },
     "execution_count": 368,
     "metadata": {},
     "output_type": "execute_result"
    }
   ],
   "source": [
    "world[world.CODE== '-99']"
   ]
  },
  {
   "cell_type": "markdown",
   "id": "53719577",
   "metadata": {},
   "source": [
    "### Merging 'all_meetings' with 'world' as wmap"
   ]
  },
  {
   "cell_type": "code",
   "execution_count": 465,
   "id": "eb448685",
   "metadata": {},
   "outputs": [
    {
     "data": {
      "text/html": [
       "<div>\n",
       "<style scoped>\n",
       "    .dataframe tbody tr th:only-of-type {\n",
       "        vertical-align: middle;\n",
       "    }\n",
       "\n",
       "    .dataframe tbody tr th {\n",
       "        vertical-align: top;\n",
       "    }\n",
       "\n",
       "    .dataframe thead th {\n",
       "        text-align: right;\n",
       "    }\n",
       "</style>\n",
       "<table border=\"1\" class=\"dataframe\">\n",
       "  <thead>\n",
       "    <tr style=\"text-align: right;\">\n",
       "      <th></th>\n",
       "      <th>pop_est</th>\n",
       "      <th>continent</th>\n",
       "      <th>name</th>\n",
       "      <th>CODE</th>\n",
       "      <th>gdp_md_est</th>\n",
       "      <th>geometry</th>\n",
       "      <th>Count</th>\n",
       "      <th>COUNTRY</th>\n",
       "      <th>CODE2</th>\n",
       "    </tr>\n",
       "  </thead>\n",
       "  <tbody>\n",
       "    <tr>\n",
       "      <th>0</th>\n",
       "      <td>920938</td>\n",
       "      <td>Oceania</td>\n",
       "      <td>Fiji</td>\n",
       "      <td>FJI</td>\n",
       "      <td>8374.0</td>\n",
       "      <td>MULTIPOLYGON (((180.00000 -16.06713, 180.00000...</td>\n",
       "      <td>NaN</td>\n",
       "      <td>NaN</td>\n",
       "      <td>NaN</td>\n",
       "    </tr>\n",
       "    <tr>\n",
       "      <th>1</th>\n",
       "      <td>53950935</td>\n",
       "      <td>Africa</td>\n",
       "      <td>Tanzania</td>\n",
       "      <td>TZA</td>\n",
       "      <td>150600.0</td>\n",
       "      <td>POLYGON ((33.90371 -0.95000, 34.07262 -1.05982...</td>\n",
       "      <td>10.0</td>\n",
       "      <td>Tanzania, United Republic of</td>\n",
       "      <td>TZ</td>\n",
       "    </tr>\n",
       "    <tr>\n",
       "      <th>2</th>\n",
       "      <td>603253</td>\n",
       "      <td>Africa</td>\n",
       "      <td>W. Sahara</td>\n",
       "      <td>ESH</td>\n",
       "      <td>906.5</td>\n",
       "      <td>POLYGON ((-8.66559 27.65643, -8.66512 27.58948...</td>\n",
       "      <td>NaN</td>\n",
       "      <td>NaN</td>\n",
       "      <td>NaN</td>\n",
       "    </tr>\n",
       "    <tr>\n",
       "      <th>3</th>\n",
       "      <td>35623680</td>\n",
       "      <td>North America</td>\n",
       "      <td>Canada</td>\n",
       "      <td>CAN</td>\n",
       "      <td>1674000.0</td>\n",
       "      <td>MULTIPOLYGON (((-122.84000 49.00000, -122.9742...</td>\n",
       "      <td>33.0</td>\n",
       "      <td>CANADA</td>\n",
       "      <td>CA</td>\n",
       "    </tr>\n",
       "    <tr>\n",
       "      <th>4</th>\n",
       "      <td>326625791</td>\n",
       "      <td>North America</td>\n",
       "      <td>United States of America</td>\n",
       "      <td>USA</td>\n",
       "      <td>18560000.0</td>\n",
       "      <td>MULTIPOLYGON (((-122.84000 49.00000, -120.0000...</td>\n",
       "      <td>196.0</td>\n",
       "      <td>United States</td>\n",
       "      <td>US</td>\n",
       "    </tr>\n",
       "  </tbody>\n",
       "</table>\n",
       "</div>"
      ],
      "text/plain": [
       "     pop_est      continent                      name CODE  gdp_md_est  \\\n",
       "0     920938        Oceania                      Fiji  FJI      8374.0   \n",
       "1   53950935         Africa                  Tanzania  TZA    150600.0   \n",
       "2     603253         Africa                 W. Sahara  ESH       906.5   \n",
       "3   35623680  North America                    Canada  CAN   1674000.0   \n",
       "4  326625791  North America  United States of America  USA  18560000.0   \n",
       "\n",
       "                                            geometry  Count  \\\n",
       "0  MULTIPOLYGON (((180.00000 -16.06713, 180.00000...    NaN   \n",
       "1  POLYGON ((33.90371 -0.95000, 34.07262 -1.05982...   10.0   \n",
       "2  POLYGON ((-8.66559 27.65643, -8.66512 27.58948...    NaN   \n",
       "3  MULTIPOLYGON (((-122.84000 49.00000, -122.9742...   33.0   \n",
       "4  MULTIPOLYGON (((-122.84000 49.00000, -120.0000...  196.0   \n",
       "\n",
       "                        COUNTRY CODE2  \n",
       "0                           NaN   NaN  \n",
       "1  Tanzania, United Republic of    TZ  \n",
       "2                           NaN   NaN  \n",
       "3                        CANADA    CA  \n",
       "4                 United States    US  "
      ]
     },
     "execution_count": 465,
     "metadata": {},
     "output_type": "execute_result"
    }
   ],
   "source": [
    "wmap = world.merge(all_meetings, on = 'CODE', how = 'left')\n",
    "wmap.head()"
   ]
  },
  {
   "cell_type": "markdown",
   "id": "2f73ea5b",
   "metadata": {},
   "source": [
    "### Importing Latitude and Longitude Data"
   ]
  },
  {
   "cell_type": "markdown",
   "id": "908411d6",
   "metadata": {},
   "source": [
    "In her tutorial, Hua Shi uses the data in this address ('https://raw.githubusercontent.com/melanieshi0120/COVID-19_global_time_series_panel_data/master/data/countries_latitude_longitude.csv'). But this lacks some countries like France and Norway. So I looked for another source and found this ('https://developers.google.com/public-data/docs/canonical/countries_csv'). But this table have 2-digit codes, not 3-digit. So now I have to add 2-digit codes to my dataset."
   ]
  },
  {
   "cell_type": "markdown",
   "id": "f1cc085b",
   "metadata": {},
   "source": [
    "#### Add a new column for 2 digit codes"
   ]
  },
  {
   "cell_type": "code",
   "execution_count": 442,
   "id": "3732eb01",
   "metadata": {},
   "outputs": [],
   "source": [
    "def alpha2code(column):\n",
    "    CODE2=[]\n",
    "    for country in column:\n",
    "        try:\n",
    "            code=pycountry.countries.get(alpha_3=country).alpha_2 \n",
    "           # .alpha_2 means 2-letter country code\n",
    "            CODE2.append(code)\n",
    "        except:\n",
    "            CODE2.append('None')\n",
    "    return CODE2"
   ]
  },
  {
   "cell_type": "code",
   "execution_count": 466,
   "id": "7ffe3182",
   "metadata": {},
   "outputs": [
    {
     "data": {
      "text/html": [
       "<div>\n",
       "<style scoped>\n",
       "    .dataframe tbody tr th:only-of-type {\n",
       "        vertical-align: middle;\n",
       "    }\n",
       "\n",
       "    .dataframe tbody tr th {\n",
       "        vertical-align: top;\n",
       "    }\n",
       "\n",
       "    .dataframe thead th {\n",
       "        text-align: right;\n",
       "    }\n",
       "</style>\n",
       "<table border=\"1\" class=\"dataframe\">\n",
       "  <thead>\n",
       "    <tr style=\"text-align: right;\">\n",
       "      <th></th>\n",
       "      <th>pop_est</th>\n",
       "      <th>continent</th>\n",
       "      <th>name</th>\n",
       "      <th>CODE</th>\n",
       "      <th>gdp_md_est</th>\n",
       "      <th>geometry</th>\n",
       "      <th>Count</th>\n",
       "      <th>COUNTRY</th>\n",
       "      <th>CODE2</th>\n",
       "    </tr>\n",
       "  </thead>\n",
       "  <tbody>\n",
       "    <tr>\n",
       "      <th>0</th>\n",
       "      <td>920938</td>\n",
       "      <td>Oceania</td>\n",
       "      <td>Fiji</td>\n",
       "      <td>FJI</td>\n",
       "      <td>8374.0</td>\n",
       "      <td>MULTIPOLYGON (((180.00000 -16.06713, 180.00000...</td>\n",
       "      <td>NaN</td>\n",
       "      <td>NaN</td>\n",
       "      <td>FJ</td>\n",
       "    </tr>\n",
       "    <tr>\n",
       "      <th>1</th>\n",
       "      <td>53950935</td>\n",
       "      <td>Africa</td>\n",
       "      <td>Tanzania</td>\n",
       "      <td>TZA</td>\n",
       "      <td>150600.0</td>\n",
       "      <td>POLYGON ((33.90371 -0.95000, 34.07262 -1.05982...</td>\n",
       "      <td>10.0</td>\n",
       "      <td>Tanzania, United Republic of</td>\n",
       "      <td>TZ</td>\n",
       "    </tr>\n",
       "    <tr>\n",
       "      <th>2</th>\n",
       "      <td>603253</td>\n",
       "      <td>Africa</td>\n",
       "      <td>W. Sahara</td>\n",
       "      <td>ESH</td>\n",
       "      <td>906.5</td>\n",
       "      <td>POLYGON ((-8.66559 27.65643, -8.66512 27.58948...</td>\n",
       "      <td>NaN</td>\n",
       "      <td>NaN</td>\n",
       "      <td>EH</td>\n",
       "    </tr>\n",
       "  </tbody>\n",
       "</table>\n",
       "</div>"
      ],
      "text/plain": [
       "    pop_est continent       name CODE  gdp_md_est  \\\n",
       "0    920938   Oceania       Fiji  FJI      8374.0   \n",
       "1  53950935    Africa   Tanzania  TZA    150600.0   \n",
       "2    603253    Africa  W. Sahara  ESH       906.5   \n",
       "\n",
       "                                            geometry  Count  \\\n",
       "0  MULTIPOLYGON (((180.00000 -16.06713, 180.00000...    NaN   \n",
       "1  POLYGON ((33.90371 -0.95000, 34.07262 -1.05982...   10.0   \n",
       "2  POLYGON ((-8.66559 27.65643, -8.66512 27.58948...    NaN   \n",
       "\n",
       "                        COUNTRY CODE2  \n",
       "0                           NaN    FJ  \n",
       "1  Tanzania, United Republic of    TZ  \n",
       "2                           NaN    EH  "
      ]
     },
     "execution_count": 466,
     "metadata": {},
     "output_type": "execute_result"
    }
   ],
   "source": [
    "wmap['CODE2']=alpha2code(wmap.CODE)\n",
    "wmap.head(3)"
   ]
  },
  {
   "cell_type": "code",
   "execution_count": 467,
   "id": "733f71f5",
   "metadata": {},
   "outputs": [
    {
     "data": {
      "text/html": [
       "<div>\n",
       "<style scoped>\n",
       "    .dataframe tbody tr th:only-of-type {\n",
       "        vertical-align: middle;\n",
       "    }\n",
       "\n",
       "    .dataframe tbody tr th {\n",
       "        vertical-align: top;\n",
       "    }\n",
       "\n",
       "    .dataframe thead th {\n",
       "        text-align: right;\n",
       "    }\n",
       "</style>\n",
       "<table border=\"1\" class=\"dataframe\">\n",
       "  <thead>\n",
       "    <tr style=\"text-align: right;\">\n",
       "      <th></th>\n",
       "      <th>pop_est</th>\n",
       "      <th>continent</th>\n",
       "      <th>name</th>\n",
       "      <th>CODE</th>\n",
       "      <th>gdp_md_est</th>\n",
       "      <th>geometry</th>\n",
       "      <th>Count</th>\n",
       "      <th>COUNTRY</th>\n",
       "      <th>CODE2</th>\n",
       "    </tr>\n",
       "  </thead>\n",
       "  <tbody>\n",
       "  </tbody>\n",
       "</table>\n",
       "</div>"
      ],
      "text/plain": [
       "Empty GeoDataFrame\n",
       "Columns: [pop_est, continent, name, CODE, gdp_md_est, geometry, Count, COUNTRY, CODE2]\n",
       "Index: []"
      ]
     },
     "execution_count": 467,
     "metadata": {},
     "output_type": "execute_result"
    }
   ],
   "source": [
    "wmap[wmap.CODE2.isnull()]"
   ]
  },
  {
   "cell_type": "code",
   "execution_count": 468,
   "id": "227241e8",
   "metadata": {},
   "outputs": [
    {
     "data": {
      "text/html": [
       "<div>\n",
       "<style scoped>\n",
       "    .dataframe tbody tr th:only-of-type {\n",
       "        vertical-align: middle;\n",
       "    }\n",
       "\n",
       "    .dataframe tbody tr th {\n",
       "        vertical-align: top;\n",
       "    }\n",
       "\n",
       "    .dataframe thead th {\n",
       "        text-align: right;\n",
       "    }\n",
       "</style>\n",
       "<table border=\"1\" class=\"dataframe\">\n",
       "  <thead>\n",
       "    <tr style=\"text-align: right;\">\n",
       "      <th></th>\n",
       "      <th>pop_est</th>\n",
       "      <th>continent</th>\n",
       "      <th>name</th>\n",
       "      <th>CODE</th>\n",
       "      <th>gdp_md_est</th>\n",
       "      <th>geometry</th>\n",
       "      <th>Count</th>\n",
       "      <th>COUNTRY</th>\n",
       "      <th>CODE2</th>\n",
       "    </tr>\n",
       "  </thead>\n",
       "  <tbody>\n",
       "    <tr>\n",
       "      <th>161</th>\n",
       "      <td>265100</td>\n",
       "      <td>Asia</td>\n",
       "      <td>N. Cyprus</td>\n",
       "      <td>KKTC</td>\n",
       "      <td>3600.0</td>\n",
       "      <td>POLYGON ((32.73178 35.14003, 32.80247 35.14550...</td>\n",
       "      <td>121.0</td>\n",
       "      <td>KKTC</td>\n",
       "      <td>None</td>\n",
       "    </tr>\n",
       "    <tr>\n",
       "      <th>168</th>\n",
       "      <td>3500000</td>\n",
       "      <td>Africa</td>\n",
       "      <td>Somaliland</td>\n",
       "      <td>SOM2</td>\n",
       "      <td>12250.0</td>\n",
       "      <td>POLYGON ((48.94820 11.41062, 48.94820 11.41062...</td>\n",
       "      <td>NaN</td>\n",
       "      <td>NaN</td>\n",
       "      <td>None</td>\n",
       "    </tr>\n",
       "    <tr>\n",
       "      <th>175</th>\n",
       "      <td>1895250</td>\n",
       "      <td>Europe</td>\n",
       "      <td>Kosovo</td>\n",
       "      <td>XKX</td>\n",
       "      <td>18490.0</td>\n",
       "      <td>POLYGON ((20.59025 41.85541, 20.52295 42.21787...</td>\n",
       "      <td>45.0</td>\n",
       "      <td>KOSOVO</td>\n",
       "      <td>None</td>\n",
       "    </tr>\n",
       "  </tbody>\n",
       "</table>\n",
       "</div>"
      ],
      "text/plain": [
       "     pop_est continent        name  CODE  gdp_md_est  \\\n",
       "161   265100      Asia   N. Cyprus  KKTC      3600.0   \n",
       "168  3500000    Africa  Somaliland  SOM2     12250.0   \n",
       "175  1895250    Europe      Kosovo   XKX     18490.0   \n",
       "\n",
       "                                              geometry  Count COUNTRY CODE2  \n",
       "161  POLYGON ((32.73178 35.14003, 32.80247 35.14550...  121.0    KKTC  None  \n",
       "168  POLYGON ((48.94820 11.41062, 48.94820 11.41062...    NaN     NaN  None  \n",
       "175  POLYGON ((20.59025 41.85541, 20.52295 42.21787...   45.0  KOSOVO  None  "
      ]
     },
     "execution_count": 468,
     "metadata": {},
     "output_type": "execute_result"
    }
   ],
   "source": [
    "wmap[wmap.CODE2 == 'None']"
   ]
  },
  {
   "cell_type": "code",
   "execution_count": 469,
   "id": "f24a0fd5",
   "metadata": {},
   "outputs": [],
   "source": [
    "wmap.loc[wmap['name'] == 'N. Cyprus', 'CODE2'] = 'KKTC2'"
   ]
  },
  {
   "cell_type": "code",
   "execution_count": 470,
   "id": "be549053",
   "metadata": {},
   "outputs": [],
   "source": [
    "wmap.loc[wmap['name'] == 'Somaliland', 'CODE2'] = 'SOM2'"
   ]
  },
  {
   "cell_type": "code",
   "execution_count": 471,
   "id": "fd1d5149",
   "metadata": {},
   "outputs": [],
   "source": [
    "wmap.loc[wmap['name'] == 'Kosovo', 'CODE2'] = 'XK'"
   ]
  },
  {
   "cell_type": "code",
   "execution_count": 472,
   "id": "bdafbdd5",
   "metadata": {},
   "outputs": [
    {
     "data": {
      "text/html": [
       "<div>\n",
       "<style scoped>\n",
       "    .dataframe tbody tr th:only-of-type {\n",
       "        vertical-align: middle;\n",
       "    }\n",
       "\n",
       "    .dataframe tbody tr th {\n",
       "        vertical-align: top;\n",
       "    }\n",
       "\n",
       "    .dataframe thead th {\n",
       "        text-align: right;\n",
       "    }\n",
       "</style>\n",
       "<table border=\"1\" class=\"dataframe\">\n",
       "  <thead>\n",
       "    <tr style=\"text-align: right;\">\n",
       "      <th></th>\n",
       "      <th>pop_est</th>\n",
       "      <th>continent</th>\n",
       "      <th>name</th>\n",
       "      <th>CODE</th>\n",
       "      <th>gdp_md_est</th>\n",
       "      <th>geometry</th>\n",
       "      <th>Count</th>\n",
       "      <th>COUNTRY</th>\n",
       "      <th>CODE2</th>\n",
       "    </tr>\n",
       "  </thead>\n",
       "  <tbody>\n",
       "  </tbody>\n",
       "</table>\n",
       "</div>"
      ],
      "text/plain": [
       "Empty GeoDataFrame\n",
       "Columns: [pop_est, continent, name, CODE, gdp_md_est, geometry, Count, COUNTRY, CODE2]\n",
       "Index: []"
      ]
     },
     "execution_count": 472,
     "metadata": {},
     "output_type": "execute_result"
    }
   ],
   "source": [
    "wmap[wmap.CODE2 == 'None']"
   ]
  },
  {
   "cell_type": "markdown",
   "id": "3de30f13",
   "metadata": {},
   "source": [
    "### Replacing Nan values with zero"
   ]
  },
  {
   "cell_type": "markdown",
   "id": "b59b5ef5",
   "metadata": {},
   "source": [
    "Since I have added new countries to my table, some rows have NaN Count value. I will convert them to zero."
   ]
  },
  {
   "cell_type": "code",
   "execution_count": 473,
   "id": "715b5ff0",
   "metadata": {},
   "outputs": [
    {
     "data": {
      "text/plain": [
       "pop_est  continent  name   CODE   gdp_md_est  geometry  Count  COUNTRY  CODE2\n",
       "False    False      False  False  False       False     False  False    False    159\n",
       "                                                        True   True     False     19\n",
       "dtype: int64"
      ]
     },
     "execution_count": 473,
     "metadata": {},
     "output_type": "execute_result"
    }
   ],
   "source": [
    "wmap.isnull().value_counts()"
   ]
  },
  {
   "cell_type": "code",
   "execution_count": 474,
   "id": "2430d2f8",
   "metadata": {},
   "outputs": [],
   "source": [
    "wmap.fillna(0, inplace = True)"
   ]
  },
  {
   "cell_type": "code",
   "execution_count": 475,
   "id": "eb6c4eaa",
   "metadata": {},
   "outputs": [
    {
     "data": {
      "text/plain": [
       "pop_est  continent  name   CODE   gdp_md_est  geometry  Count  COUNTRY  CODE2\n",
       "False    False      False  False  False       False     False  False    False    178\n",
       "dtype: int64"
      ]
     },
     "execution_count": 475,
     "metadata": {},
     "output_type": "execute_result"
    }
   ],
   "source": [
    "wmap.isnull().value_counts()"
   ]
  },
  {
   "cell_type": "markdown",
   "id": "25bd0f29",
   "metadata": {},
   "source": [
    "#### Drop unnecessary columns"
   ]
  },
  {
   "cell_type": "code",
   "execution_count": 476,
   "id": "6b25ef84",
   "metadata": {},
   "outputs": [],
   "source": [
    "wmap.drop(columns = ['pop_est', 'COUNTRY'], inplace = True)"
   ]
  },
  {
   "cell_type": "code",
   "execution_count": 477,
   "id": "bbb500d9",
   "metadata": {},
   "outputs": [
    {
     "data": {
      "text/html": [
       "<div>\n",
       "<style scoped>\n",
       "    .dataframe tbody tr th:only-of-type {\n",
       "        vertical-align: middle;\n",
       "    }\n",
       "\n",
       "    .dataframe tbody tr th {\n",
       "        vertical-align: top;\n",
       "    }\n",
       "\n",
       "    .dataframe thead th {\n",
       "        text-align: right;\n",
       "    }\n",
       "</style>\n",
       "<table border=\"1\" class=\"dataframe\">\n",
       "  <thead>\n",
       "    <tr style=\"text-align: right;\">\n",
       "      <th></th>\n",
       "      <th>continent</th>\n",
       "      <th>name</th>\n",
       "      <th>CODE</th>\n",
       "      <th>gdp_md_est</th>\n",
       "      <th>geometry</th>\n",
       "      <th>Count</th>\n",
       "      <th>CODE2</th>\n",
       "    </tr>\n",
       "  </thead>\n",
       "  <tbody>\n",
       "    <tr>\n",
       "      <th>0</th>\n",
       "      <td>Oceania</td>\n",
       "      <td>Fiji</td>\n",
       "      <td>FJI</td>\n",
       "      <td>8374.0</td>\n",
       "      <td>MULTIPOLYGON (((180.00000 -16.06713, 180.00000...</td>\n",
       "      <td>0.0</td>\n",
       "      <td>FJ</td>\n",
       "    </tr>\n",
       "    <tr>\n",
       "      <th>1</th>\n",
       "      <td>Africa</td>\n",
       "      <td>Tanzania</td>\n",
       "      <td>TZA</td>\n",
       "      <td>150600.0</td>\n",
       "      <td>POLYGON ((33.90371 -0.95000, 34.07262 -1.05982...</td>\n",
       "      <td>10.0</td>\n",
       "      <td>TZ</td>\n",
       "    </tr>\n",
       "    <tr>\n",
       "      <th>2</th>\n",
       "      <td>Africa</td>\n",
       "      <td>W. Sahara</td>\n",
       "      <td>ESH</td>\n",
       "      <td>906.5</td>\n",
       "      <td>POLYGON ((-8.66559 27.65643, -8.66512 27.58948...</td>\n",
       "      <td>0.0</td>\n",
       "      <td>EH</td>\n",
       "    </tr>\n",
       "    <tr>\n",
       "      <th>3</th>\n",
       "      <td>North America</td>\n",
       "      <td>Canada</td>\n",
       "      <td>CAN</td>\n",
       "      <td>1674000.0</td>\n",
       "      <td>MULTIPOLYGON (((-122.84000 49.00000, -122.9742...</td>\n",
       "      <td>33.0</td>\n",
       "      <td>CA</td>\n",
       "    </tr>\n",
       "    <tr>\n",
       "      <th>4</th>\n",
       "      <td>North America</td>\n",
       "      <td>United States of America</td>\n",
       "      <td>USA</td>\n",
       "      <td>18560000.0</td>\n",
       "      <td>MULTIPOLYGON (((-122.84000 49.00000, -120.0000...</td>\n",
       "      <td>196.0</td>\n",
       "      <td>US</td>\n",
       "    </tr>\n",
       "  </tbody>\n",
       "</table>\n",
       "</div>"
      ],
      "text/plain": [
       "       continent                      name CODE  gdp_md_est  \\\n",
       "0        Oceania                      Fiji  FJI      8374.0   \n",
       "1         Africa                  Tanzania  TZA    150600.0   \n",
       "2         Africa                 W. Sahara  ESH       906.5   \n",
       "3  North America                    Canada  CAN   1674000.0   \n",
       "4  North America  United States of America  USA  18560000.0   \n",
       "\n",
       "                                            geometry  Count CODE2  \n",
       "0  MULTIPOLYGON (((180.00000 -16.06713, 180.00000...    0.0    FJ  \n",
       "1  POLYGON ((33.90371 -0.95000, 34.07262 -1.05982...   10.0    TZ  \n",
       "2  POLYGON ((-8.66559 27.65643, -8.66512 27.58948...    0.0    EH  \n",
       "3  MULTIPOLYGON (((-122.84000 49.00000, -122.9742...   33.0    CA  \n",
       "4  MULTIPOLYGON (((-122.84000 49.00000, -120.0000...  196.0    US  "
      ]
     },
     "execution_count": 477,
     "metadata": {},
     "output_type": "execute_result"
    }
   ],
   "source": [
    "wmap.head()"
   ]
  },
  {
   "cell_type": "markdown",
   "id": "0afd5328",
   "metadata": {},
   "source": [
    "#### Importing longitude and latitude Table"
   ]
  },
  {
   "cell_type": "code",
   "execution_count": 478,
   "id": "1fafd9de",
   "metadata": {},
   "outputs": [],
   "source": [
    "tables = pd.read_html('https://developers.google.com/public-data/docs/canonical/countries_csv')"
   ]
  },
  {
   "cell_type": "code",
   "execution_count": 479,
   "id": "f419b664",
   "metadata": {},
   "outputs": [
    {
     "data": {
      "text/html": [
       "<div>\n",
       "<style scoped>\n",
       "    .dataframe tbody tr th:only-of-type {\n",
       "        vertical-align: middle;\n",
       "    }\n",
       "\n",
       "    .dataframe tbody tr th {\n",
       "        vertical-align: top;\n",
       "    }\n",
       "\n",
       "    .dataframe thead th {\n",
       "        text-align: right;\n",
       "    }\n",
       "</style>\n",
       "<table border=\"1\" class=\"dataframe\">\n",
       "  <thead>\n",
       "    <tr style=\"text-align: right;\">\n",
       "      <th></th>\n",
       "      <th>country</th>\n",
       "      <th>latitude</th>\n",
       "      <th>longitude</th>\n",
       "      <th>name</th>\n",
       "    </tr>\n",
       "  </thead>\n",
       "  <tbody>\n",
       "    <tr>\n",
       "      <th>0</th>\n",
       "      <td>AD</td>\n",
       "      <td>42.546245</td>\n",
       "      <td>1.601554</td>\n",
       "      <td>Andorra</td>\n",
       "    </tr>\n",
       "    <tr>\n",
       "      <th>1</th>\n",
       "      <td>AE</td>\n",
       "      <td>23.424076</td>\n",
       "      <td>53.847818</td>\n",
       "      <td>United Arab Emirates</td>\n",
       "    </tr>\n",
       "    <tr>\n",
       "      <th>2</th>\n",
       "      <td>AF</td>\n",
       "      <td>33.939110</td>\n",
       "      <td>67.709953</td>\n",
       "      <td>Afghanistan</td>\n",
       "    </tr>\n",
       "    <tr>\n",
       "      <th>3</th>\n",
       "      <td>AG</td>\n",
       "      <td>17.060816</td>\n",
       "      <td>-61.796428</td>\n",
       "      <td>Antigua and Barbuda</td>\n",
       "    </tr>\n",
       "    <tr>\n",
       "      <th>4</th>\n",
       "      <td>AI</td>\n",
       "      <td>18.220554</td>\n",
       "      <td>-63.068615</td>\n",
       "      <td>Anguilla</td>\n",
       "    </tr>\n",
       "  </tbody>\n",
       "</table>\n",
       "</div>"
      ],
      "text/plain": [
       "  country   latitude  longitude                  name\n",
       "0      AD  42.546245   1.601554               Andorra\n",
       "1      AE  23.424076  53.847818  United Arab Emirates\n",
       "2      AF  33.939110  67.709953           Afghanistan\n",
       "3      AG  17.060816 -61.796428   Antigua and Barbuda\n",
       "4      AI  18.220554 -63.068615              Anguilla"
      ]
     },
     "execution_count": 479,
     "metadata": {},
     "output_type": "execute_result"
    }
   ],
   "source": [
    "table = tables[0]\n",
    "table.head()"
   ]
  },
  {
   "cell_type": "code",
   "execution_count": 481,
   "id": "58d65084",
   "metadata": {},
   "outputs": [],
   "source": [
    "#Before merging with wmap dataframe, I have changed country column's name to 'CODE2'\n",
    "table.rename(columns = {'country': 'CODE2'}, inplace = True)"
   ]
  },
  {
   "cell_type": "markdown",
   "id": "dcde3b8d",
   "metadata": {},
   "source": [
    "#### Merge wmap with table"
   ]
  },
  {
   "cell_type": "code",
   "execution_count": 482,
   "id": "10c91c73",
   "metadata": {},
   "outputs": [
    {
     "data": {
      "text/html": [
       "<div>\n",
       "<style scoped>\n",
       "    .dataframe tbody tr th:only-of-type {\n",
       "        vertical-align: middle;\n",
       "    }\n",
       "\n",
       "    .dataframe tbody tr th {\n",
       "        vertical-align: top;\n",
       "    }\n",
       "\n",
       "    .dataframe thead th {\n",
       "        text-align: right;\n",
       "    }\n",
       "</style>\n",
       "<table border=\"1\" class=\"dataframe\">\n",
       "  <thead>\n",
       "    <tr style=\"text-align: right;\">\n",
       "      <th></th>\n",
       "      <th>index</th>\n",
       "      <th>continent</th>\n",
       "      <th>name_x</th>\n",
       "      <th>CODE</th>\n",
       "      <th>gdp_md_est</th>\n",
       "      <th>geometry</th>\n",
       "      <th>Count</th>\n",
       "      <th>CODE2</th>\n",
       "      <th>latitude</th>\n",
       "      <th>longitude</th>\n",
       "      <th>name_y</th>\n",
       "    </tr>\n",
       "  </thead>\n",
       "  <tbody>\n",
       "    <tr>\n",
       "      <th>0</th>\n",
       "      <td>4</td>\n",
       "      <td>North America</td>\n",
       "      <td>United States of America</td>\n",
       "      <td>USA</td>\n",
       "      <td>18560000.0</td>\n",
       "      <td>MULTIPOLYGON (((-122.84000 49.00000, -120.0000...</td>\n",
       "      <td>196.0</td>\n",
       "      <td>US</td>\n",
       "      <td>37.090240</td>\n",
       "      <td>-95.712891</td>\n",
       "      <td>United States</td>\n",
       "    </tr>\n",
       "    <tr>\n",
       "      <th>1</th>\n",
       "      <td>107</td>\n",
       "      <td>Asia</td>\n",
       "      <td>Iran</td>\n",
       "      <td>IRN</td>\n",
       "      <td>1459000.0</td>\n",
       "      <td>POLYGON ((48.56797 29.92678, 48.01457 30.45246...</td>\n",
       "      <td>143.0</td>\n",
       "      <td>IR</td>\n",
       "      <td>32.427908</td>\n",
       "      <td>53.688046</td>\n",
       "      <td>Iran</td>\n",
       "    </tr>\n",
       "    <tr>\n",
       "      <th>2</th>\n",
       "      <td>87</td>\n",
       "      <td>Asia</td>\n",
       "      <td>Iraq</td>\n",
       "      <td>IRQ</td>\n",
       "      <td>596700.0</td>\n",
       "      <td>POLYGON ((39.19547 32.16101, 38.79234 33.37869...</td>\n",
       "      <td>138.0</td>\n",
       "      <td>IQ</td>\n",
       "      <td>33.223191</td>\n",
       "      <td>43.679291</td>\n",
       "      <td>Iraq</td>\n",
       "    </tr>\n",
       "    <tr>\n",
       "      <th>3</th>\n",
       "      <td>18</td>\n",
       "      <td>Europe</td>\n",
       "      <td>Russia</td>\n",
       "      <td>RUS</td>\n",
       "      <td>3745000.0</td>\n",
       "      <td>MULTIPOLYGON (((178.72530 71.09880, 180.00000 ...</td>\n",
       "      <td>134.0</td>\n",
       "      <td>RU</td>\n",
       "      <td>61.524010</td>\n",
       "      <td>105.318756</td>\n",
       "      <td>Russia</td>\n",
       "    </tr>\n",
       "    <tr>\n",
       "      <th>4</th>\n",
       "      <td>122</td>\n",
       "      <td>Europe</td>\n",
       "      <td>Germany</td>\n",
       "      <td>DEU</td>\n",
       "      <td>3979000.0</td>\n",
       "      <td>POLYGON ((14.11969 53.75703, 14.35332 53.24817...</td>\n",
       "      <td>128.0</td>\n",
       "      <td>DE</td>\n",
       "      <td>51.165691</td>\n",
       "      <td>10.451526</td>\n",
       "      <td>Germany</td>\n",
       "    </tr>\n",
       "  </tbody>\n",
       "</table>\n",
       "</div>"
      ],
      "text/plain": [
       "   index      continent                    name_x CODE  gdp_md_est  \\\n",
       "0      4  North America  United States of America  USA  18560000.0   \n",
       "1    107           Asia                      Iran  IRN   1459000.0   \n",
       "2     87           Asia                      Iraq  IRQ    596700.0   \n",
       "3     18         Europe                    Russia  RUS   3745000.0   \n",
       "4    122         Europe                   Germany  DEU   3979000.0   \n",
       "\n",
       "                                            geometry  Count CODE2   latitude  \\\n",
       "0  MULTIPOLYGON (((-122.84000 49.00000, -120.0000...  196.0    US  37.090240   \n",
       "1  POLYGON ((48.56797 29.92678, 48.01457 30.45246...  143.0    IR  32.427908   \n",
       "2  POLYGON ((39.19547 32.16101, 38.79234 33.37869...  138.0    IQ  33.223191   \n",
       "3  MULTIPOLYGON (((178.72530 71.09880, 180.00000 ...  134.0    RU  61.524010   \n",
       "4  POLYGON ((14.11969 53.75703, 14.35332 53.24817...  128.0    DE  51.165691   \n",
       "\n",
       "    longitude         name_y  \n",
       "0  -95.712891  United States  \n",
       "1   53.688046           Iran  \n",
       "2   43.679291           Iraq  \n",
       "3  105.318756         Russia  \n",
       "4   10.451526        Germany  "
      ]
     },
     "execution_count": 482,
     "metadata": {},
     "output_type": "execute_result"
    }
   ],
   "source": [
    "merged=wmap.merge(table,on='CODE2', how = 'left').sort_values(by=['Count'],ascending=False).reset_index()\n",
    "merged.head()"
   ]
  },
  {
   "cell_type": "code",
   "execution_count": 483,
   "id": "86f7ca52",
   "metadata": {},
   "outputs": [
    {
     "data": {
      "text/plain": [
       "index  continent  name_x  CODE   gdp_md_est  geometry  Count  CODE2  latitude  longitude  name_y\n",
       "False  False      False   False  False       False     False  False  False     False      False     174\n",
       "                                                                     True      True       True        4\n",
       "dtype: int64"
      ]
     },
     "execution_count": 483,
     "metadata": {},
     "output_type": "execute_result"
    }
   ],
   "source": [
    "merged.isnull().value_counts()"
   ]
  },
  {
   "cell_type": "markdown",
   "id": "86722044",
   "metadata": {},
   "source": [
    "#### Check rows with no latitude or longitude data"
   ]
  },
  {
   "cell_type": "code",
   "execution_count": 488,
   "id": "739c515b",
   "metadata": {},
   "outputs": [
    {
     "data": {
      "text/html": [
       "<div>\n",
       "<style scoped>\n",
       "    .dataframe tbody tr th:only-of-type {\n",
       "        vertical-align: middle;\n",
       "    }\n",
       "\n",
       "    .dataframe tbody tr th {\n",
       "        vertical-align: top;\n",
       "    }\n",
       "\n",
       "    .dataframe thead th {\n",
       "        text-align: right;\n",
       "    }\n",
       "</style>\n",
       "<table border=\"1\" class=\"dataframe\">\n",
       "  <thead>\n",
       "    <tr style=\"text-align: right;\">\n",
       "      <th></th>\n",
       "      <th>index</th>\n",
       "      <th>continent</th>\n",
       "      <th>name_x</th>\n",
       "      <th>CODE</th>\n",
       "      <th>gdp_md_est</th>\n",
       "      <th>geometry</th>\n",
       "      <th>Count</th>\n",
       "      <th>CODE2</th>\n",
       "      <th>latitude</th>\n",
       "      <th>longitude</th>\n",
       "      <th>name_y</th>\n",
       "    </tr>\n",
       "  </thead>\n",
       "  <tbody>\n",
       "    <tr>\n",
       "      <th>5</th>\n",
       "      <td>161</td>\n",
       "      <td>Asia</td>\n",
       "      <td>N. Cyprus</td>\n",
       "      <td>KKTC</td>\n",
       "      <td>3600.0</td>\n",
       "      <td>POLYGON ((32.73178 35.14003, 32.80247 35.14550...</td>\n",
       "      <td>121.0</td>\n",
       "      <td>KKTC2</td>\n",
       "      <td>NaN</td>\n",
       "      <td>NaN</td>\n",
       "      <td>NaN</td>\n",
       "    </tr>\n",
       "    <tr>\n",
       "      <th>130</th>\n",
       "      <td>177</td>\n",
       "      <td>Africa</td>\n",
       "      <td>S. Sudan</td>\n",
       "      <td>SSD</td>\n",
       "      <td>20880.0</td>\n",
       "      <td>POLYGON ((30.83385 3.50917, 29.95350 4.17370, ...</td>\n",
       "      <td>4.0</td>\n",
       "      <td>SS</td>\n",
       "      <td>NaN</td>\n",
       "      <td>NaN</td>\n",
       "      <td>NaN</td>\n",
       "    </tr>\n",
       "    <tr>\n",
       "      <th>140</th>\n",
       "      <td>50</td>\n",
       "      <td>Africa</td>\n",
       "      <td>Namibia</td>\n",
       "      <td>NAM</td>\n",
       "      <td>25990.0</td>\n",
       "      <td>POLYGON ((19.89577 -24.76779, 19.89473 -28.461...</td>\n",
       "      <td>3.0</td>\n",
       "      <td>NA</td>\n",
       "      <td>NaN</td>\n",
       "      <td>NaN</td>\n",
       "      <td>NaN</td>\n",
       "    </tr>\n",
       "    <tr>\n",
       "      <th>166</th>\n",
       "      <td>168</td>\n",
       "      <td>Africa</td>\n",
       "      <td>Somaliland</td>\n",
       "      <td>SOM2</td>\n",
       "      <td>12250.0</td>\n",
       "      <td>POLYGON ((48.94820 11.41062, 48.94820 11.41062...</td>\n",
       "      <td>0.0</td>\n",
       "      <td>SOM2</td>\n",
       "      <td>NaN</td>\n",
       "      <td>NaN</td>\n",
       "      <td>NaN</td>\n",
       "    </tr>\n",
       "  </tbody>\n",
       "</table>\n",
       "</div>"
      ],
      "text/plain": [
       "     index continent      name_x  CODE  gdp_md_est  \\\n",
       "5      161      Asia   N. Cyprus  KKTC      3600.0   \n",
       "130    177    Africa    S. Sudan   SSD     20880.0   \n",
       "140     50    Africa     Namibia   NAM     25990.0   \n",
       "166    168    Africa  Somaliland  SOM2     12250.0   \n",
       "\n",
       "                                              geometry  Count  CODE2  \\\n",
       "5    POLYGON ((32.73178 35.14003, 32.80247 35.14550...  121.0  KKTC2   \n",
       "130  POLYGON ((30.83385 3.50917, 29.95350 4.17370, ...    4.0     SS   \n",
       "140  POLYGON ((19.89577 -24.76779, 19.89473 -28.461...    3.0     NA   \n",
       "166  POLYGON ((48.94820 11.41062, 48.94820 11.41062...    0.0   SOM2   \n",
       "\n",
       "     latitude  longitude name_y  \n",
       "5         NaN        NaN    NaN  \n",
       "130       NaN        NaN    NaN  \n",
       "140       NaN        NaN    NaN  \n",
       "166       NaN        NaN    NaN  "
      ]
     },
     "execution_count": 488,
     "metadata": {},
     "output_type": "execute_result"
    }
   ],
   "source": [
    "merged[merged.latitude.isnull()]"
   ]
  },
  {
   "cell_type": "markdown",
   "id": "f423e315",
   "metadata": {},
   "source": [
    "Add absent values manually"
   ]
  },
  {
   "cell_type": "code",
   "execution_count": 493,
   "id": "1792ff8f",
   "metadata": {},
   "outputs": [],
   "source": [
    "wmap.loc[wmap['CODE'] == 'KKTC', 'latitude'] = 35.248036\n",
    "wmap.loc[wmap['CODE'] == 'KKTC', 'longitude'] = 33.657724"
   ]
  },
  {
   "cell_type": "code",
   "execution_count": 495,
   "id": "d9187e64",
   "metadata": {},
   "outputs": [],
   "source": [
    "wmap.loc[wmap['CODE'] == 'SSD', 'latitude'] = 6.876991\n",
    "wmap.loc[wmap['CODE'] == 'SSD', 'longitude'] = 31.306978"
   ]
  },
  {
   "cell_type": "code",
   "execution_count": 497,
   "id": "daf9e7e6",
   "metadata": {},
   "outputs": [],
   "source": [
    "wmap.loc[wmap['CODE'] == 'NAM', 'latitude'] = -22.95764\n",
    "wmap.loc[wmap['CODE'] == 'NAM', 'longitude'] = 18.490409"
   ]
  },
  {
   "cell_type": "markdown",
   "id": "ad3f2d4d",
   "metadata": {},
   "source": [
    "#### Plot the map"
   ]
  },
  {
   "cell_type": "code",
   "execution_count": 512,
   "id": "c4976bf6",
   "metadata": {},
   "outputs": [
    {
     "data": {
      "image/png": "[encoded data removed]",
      "text/plain": [
       "<Figure size 1800x1440 with 2 Axes>"
      ]
     },
     "metadata": {},
     "output_type": "display_data"
    }
   ],
   "source": [
    "merged.plot(column='Count',\n",
    "           figsize=(25, 20),\n",
    "           legend=True,cmap='Blues', k = 20, legend_kwds={\"label\": \"Number of Meetings\", \"orientation\":\"horizontal\"})\n",
    "plt.title('High-Level Turkish Diplomatic Contacts from 2010 to 2020',fontsize=25);"
   ]
  }
 ],
 "metadata": {
  "kernelspec": {
   "display_name": "Python 3",
   "language": "python",
   "name": "python3"
  },
  "language_info": {
   "codemirror_mode": {
    "name": "ipython",
    "version": 3
   },
   "file_extension": ".py",
   "mimetype": "text/x-python",
   "name": "python",
   "nbconvert_exporter": "python",
   "pygments_lexer": "ipython3",
   "version": "3.8.8"
  }
 },
 "nbformat": 4,
 "nbformat_minor": 5
}
